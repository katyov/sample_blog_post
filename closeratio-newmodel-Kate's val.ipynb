{
 "cells": [
  {
   "cell_type": "markdown",
   "metadata": {},
   "source": [
    "## 1) Import Libraries and Load Data"
   ]
  },
  {
   "cell_type": "code",
   "execution_count": 2,
   "metadata": {
    "ExecuteTime": {
     "end_time": "2018-10-26T21:17:13.431192Z",
     "start_time": "2018-10-26T21:17:13.427181Z"
    }
   },
   "outputs": [],
   "source": [
    "\n",
    "# Last modified: October 26, 2018\n",
    "\n",
    "# This model runs Rich Kichnet's random forest model using randomly-\n",
    "# generated train and test splits and an expanded feature set."
   ]
  },
  {
   "cell_type": "code",
   "execution_count": 3,
   "metadata": {
    "ExecuteTime": {
     "end_time": "2018-10-26T21:17:24.209464Z",
     "start_time": "2018-10-26T21:17:13.438212Z"
    }
   },
   "outputs": [
    {
     "name": "stderr",
     "output_type": "stream",
     "text": [
      "Using TensorFlow backend.\n"
     ]
    }
   ],
   "source": [
    "# Load Python libraries\n",
    "\n",
    "import pandas as pd\n",
    "import numpy as np\n",
    "import matplotlib as zzz\n",
    "import matplotlib.pyplot as plt\n",
    "import seaborn as sns\n",
    "\n",
    "from datetime import datetime\n",
    "\n",
    "from sklearn.model_selection import train_test_split\n",
    "from sklearn.linear_model import LogisticRegression\n",
    "from sklearn.ensemble import RandomForestClassifier\n",
    "from sklearn.discriminant_analysis import LinearDiscriminantAnalysis\n",
    "from sklearn.svm import SVC\n",
    "from sklearn.metrics import accuracy_score\n",
    "from sklearn.metrics import confusion_matrix\n",
    "from sklearn.model_selection import GridSearchCV\n",
    "from sklearn.model_selection import KFold\n",
    "from sklearn.model_selection import cross_val_score\n",
    "\n",
    "from keras.models import Sequential\n",
    "from keras.layers import Dense\n",
    "\n",
    "from sklearn.metrics import roc_curve\n",
    "from sklearn.metrics import roc_auc_score\n",
    "\n",
    "import statsmodels.api as sm\n",
    "\n",
    "from sklearn.utils import resample\n",
    "\n",
    "import itertools\n",
    "\n",
    "# sns.set_style(\"whitegrid\")\n",
    "# sns.set_context(\"poster\")"
   ]
  },
  {
   "cell_type": "code",
   "execution_count": 4,
   "metadata": {
    "ExecuteTime": {
     "end_time": "2018-10-26T21:17:24.612146Z",
     "start_time": "2018-10-26T21:17:24.209464Z"
    }
   },
   "outputs": [],
   "source": [
    "# Pull data from .csv file\n",
    "\n",
    "df = pd.read_csv('Full_Data_Set.csv', encoding = \"ISO-8859-1\")\n",
    "df_original = df.copy()"
   ]
  },
  {
   "cell_type": "code",
   "execution_count": 5,
   "metadata": {
    "ExecuteTime": {
     "end_time": "2018-10-26T21:17:24.651253Z",
     "start_time": "2018-10-26T21:17:24.614152Z"
    }
   },
   "outputs": [
    {
     "data": {
      "text/html": [
       "<div>\n",
       "<style scoped>\n",
       "    .dataframe tbody tr th:only-of-type {\n",
       "        vertical-align: middle;\n",
       "    }\n",
       "\n",
       "    .dataframe tbody tr th {\n",
       "        vertical-align: top;\n",
       "    }\n",
       "\n",
       "    .dataframe thead th {\n",
       "        text-align: right;\n",
       "    }\n",
       "</style>\n",
       "<table border=\"1\" class=\"dataframe\">\n",
       "  <thead>\n",
       "    <tr style=\"text-align: right;\">\n",
       "      <th></th>\n",
       "      <th>Group</th>\n",
       "      <th>groupsubmissionid</th>\n",
       "      <th>PolicyNumber</th>\n",
       "      <th>Status</th>\n",
       "      <th>RSE_Name</th>\n",
       "      <th>RSS_Name</th>\n",
       "      <th>Underwriter_Name</th>\n",
       "      <th>BrokerName</th>\n",
       "      <th>TopBrokerInd</th>\n",
       "      <th>StateName</th>\n",
       "      <th>...</th>\n",
       "      <th>Wells_Stephen_Bronder</th>\n",
       "      <th>Willis_Andy_Cookingham</th>\n",
       "      <th>Willis_David_Johnson</th>\n",
       "      <th>Willis_Richard_Bradford</th>\n",
       "      <th>Include</th>\n",
       "      <th>X</th>\n",
       "      <th>X.1</th>\n",
       "      <th>X.2</th>\n",
       "      <th>X.3</th>\n",
       "      <th>Train</th>\n",
       "    </tr>\n",
       "  </thead>\n",
       "  <tbody>\n",
       "    <tr>\n",
       "      <th>0</th>\n",
       "      <td>e</td>\n",
       "      <td>0f0c07cf-cba4-407f-a025-5489b1e07a99</td>\n",
       "      <td>NaN</td>\n",
       "      <td>Quoted</td>\n",
       "      <td>Chris Tate</td>\n",
       "      <td>Lauren Bishop</td>\n",
       "      <td>Lauren Bishop</td>\n",
       "      <td>Charon Planning</td>\n",
       "      <td>0</td>\n",
       "      <td>NJ</td>\n",
       "      <td>...</td>\n",
       "      <td>0</td>\n",
       "      <td>0</td>\n",
       "      <td>0</td>\n",
       "      <td>0</td>\n",
       "      <td>0</td>\n",
       "      <td>NaN</td>\n",
       "      <td>NaN</td>\n",
       "      <td>NaN</td>\n",
       "      <td>NaN</td>\n",
       "      <td>1</td>\n",
       "    </tr>\n",
       "    <tr>\n",
       "      <th>1</th>\n",
       "      <td>Fayette Resources</td>\n",
       "      <td>2f5e1bf9-0a04-4034-b43c-59d40eb53089</td>\n",
       "      <td>NaN</td>\n",
       "      <td>Dead</td>\n",
       "      <td>Stephen Bronder</td>\n",
       "      <td>Mary Stasik</td>\n",
       "      <td>Ellen Calitri</td>\n",
       "      <td>Willis</td>\n",
       "      <td>1</td>\n",
       "      <td>PA</td>\n",
       "      <td>...</td>\n",
       "      <td>0</td>\n",
       "      <td>0</td>\n",
       "      <td>0</td>\n",
       "      <td>0</td>\n",
       "      <td>0</td>\n",
       "      <td>NaN</td>\n",
       "      <td>NaN</td>\n",
       "      <td>NaN</td>\n",
       "      <td>NaN</td>\n",
       "      <td>0</td>\n",
       "    </tr>\n",
       "    <tr>\n",
       "      <th>2</th>\n",
       "      <td>Fortegra Financial</td>\n",
       "      <td>0b8ab22e-c7a0-478c-80cc-61eaf0a339a3</td>\n",
       "      <td>NaN</td>\n",
       "      <td>Dead</td>\n",
       "      <td>Chris Farmen</td>\n",
       "      <td>Mary Hewitt</td>\n",
       "      <td>Tyler Adams</td>\n",
       "      <td>Greene Hazel</td>\n",
       "      <td>0</td>\n",
       "      <td>FL</td>\n",
       "      <td>...</td>\n",
       "      <td>0</td>\n",
       "      <td>0</td>\n",
       "      <td>0</td>\n",
       "      <td>0</td>\n",
       "      <td>3</td>\n",
       "      <td>NaN</td>\n",
       "      <td>NaN</td>\n",
       "      <td>NaN</td>\n",
       "      <td>NaN</td>\n",
       "      <td>1</td>\n",
       "    </tr>\n",
       "    <tr>\n",
       "      <th>3</th>\n",
       "      <td>Industrial Valve Sales &amp; Service, Inc.</td>\n",
       "      <td>59291dde-bca0-439e-afc5-25b686131a45</td>\n",
       "      <td>NaN</td>\n",
       "      <td>Dead</td>\n",
       "      <td>Richard Bradford</td>\n",
       "      <td>Dawn Cornelius</td>\n",
       "      <td>Matthew Jadovich</td>\n",
       "      <td>HUB International</td>\n",
       "      <td>0</td>\n",
       "      <td>AL</td>\n",
       "      <td>...</td>\n",
       "      <td>0</td>\n",
       "      <td>0</td>\n",
       "      <td>0</td>\n",
       "      <td>0</td>\n",
       "      <td>0</td>\n",
       "      <td>NaN</td>\n",
       "      <td>NaN</td>\n",
       "      <td>NaN</td>\n",
       "      <td>NaN</td>\n",
       "      <td>0</td>\n",
       "    </tr>\n",
       "    <tr>\n",
       "      <th>4</th>\n",
       "      <td>Industrial Valve Sales &amp; Service, Inc.</td>\n",
       "      <td>62bc3d72-f2af-4cc9-8eb5-25c26c7485bd</td>\n",
       "      <td>NaN</td>\n",
       "      <td>Quoted</td>\n",
       "      <td>Richard Bradford</td>\n",
       "      <td>Dawn Cornelius</td>\n",
       "      <td>Eric Elam</td>\n",
       "      <td>HUB International</td>\n",
       "      <td>0</td>\n",
       "      <td>AL</td>\n",
       "      <td>...</td>\n",
       "      <td>0</td>\n",
       "      <td>0</td>\n",
       "      <td>0</td>\n",
       "      <td>0</td>\n",
       "      <td>3</td>\n",
       "      <td>NaN</td>\n",
       "      <td>NaN</td>\n",
       "      <td>NaN</td>\n",
       "      <td>NaN</td>\n",
       "      <td>0</td>\n",
       "    </tr>\n",
       "  </tbody>\n",
       "</table>\n",
       "<p>5 rows × 172 columns</p>\n",
       "</div>"
      ],
      "text/plain": [
       "                                     Group  \\\n",
       "0                                        e   \n",
       "1                        Fayette Resources   \n",
       "2                       Fortegra Financial   \n",
       "3   Industrial Valve Sales & Service, Inc.   \n",
       "4   Industrial Valve Sales & Service, Inc.   \n",
       "\n",
       "                      groupsubmissionid PolicyNumber  Status  \\\n",
       "0  0f0c07cf-cba4-407f-a025-5489b1e07a99          NaN  Quoted   \n",
       "1  2f5e1bf9-0a04-4034-b43c-59d40eb53089          NaN    Dead   \n",
       "2  0b8ab22e-c7a0-478c-80cc-61eaf0a339a3          NaN    Dead   \n",
       "3  59291dde-bca0-439e-afc5-25b686131a45          NaN    Dead   \n",
       "4  62bc3d72-f2af-4cc9-8eb5-25c26c7485bd          NaN  Quoted   \n",
       "\n",
       "           RSE_Name        RSS_Name  Underwriter_Name         BrokerName  \\\n",
       "0        Chris Tate   Lauren Bishop     Lauren Bishop    Charon Planning   \n",
       "1   Stephen Bronder     Mary Stasik     Ellen Calitri             Willis   \n",
       "2      Chris Farmen     Mary Hewitt       Tyler Adams       Greene Hazel   \n",
       "3  Richard Bradford  Dawn Cornelius  Matthew Jadovich  HUB International   \n",
       "4  Richard Bradford  Dawn Cornelius         Eric Elam  HUB International   \n",
       "\n",
       "   TopBrokerInd StateName  ...    Wells_Stephen_Bronder  \\\n",
       "0             0        NJ  ...                        0   \n",
       "1             1        PA  ...                        0   \n",
       "2             0        FL  ...                        0   \n",
       "3             0        AL  ...                        0   \n",
       "4             0        AL  ...                        0   \n",
       "\n",
       "   Willis_Andy_Cookingham  Willis_David_Johnson  Willis_Richard_Bradford  \\\n",
       "0                       0                     0                        0   \n",
       "1                       0                     0                        0   \n",
       "2                       0                     0                        0   \n",
       "3                       0                     0                        0   \n",
       "4                       0                     0                        0   \n",
       "\n",
       "   Include   X X.1  X.2  X.3  Train  \n",
       "0        0 NaN NaN  NaN  NaN      1  \n",
       "1        0 NaN NaN  NaN  NaN      0  \n",
       "2        3 NaN NaN  NaN  NaN      1  \n",
       "3        0 NaN NaN  NaN  NaN      0  \n",
       "4        3 NaN NaN  NaN  NaN      0  \n",
       "\n",
       "[5 rows x 172 columns]"
      ]
     },
     "execution_count": 5,
     "metadata": {},
     "output_type": "execute_result"
    }
   ],
   "source": [
    "df.head()"
   ]
  },
  {
   "cell_type": "code",
   "execution_count": 6,
   "metadata": {
    "ExecuteTime": {
     "end_time": "2018-10-26T21:17:24.670303Z",
     "start_time": "2018-10-26T21:17:24.655266Z"
    }
   },
   "outputs": [
    {
     "name": "stdout",
     "output_type": "stream",
     "text": [
      "<class 'pandas.core.frame.DataFrame'>\n",
      "RangeIndex: 15211 entries, 0 to 15210\n",
      "Columns: 172 entries, Group to Train\n",
      "dtypes: float64(32), int64(129), object(11)\n",
      "memory usage: 20.0+ MB\n"
     ]
    }
   ],
   "source": [
    "df.info()"
   ]
  },
  {
   "cell_type": "code",
   "execution_count": 7,
   "metadata": {},
   "outputs": [
    {
     "data": {
      "text/html": [
       "<div>\n",
       "<style scoped>\n",
       "    .dataframe tbody tr th:only-of-type {\n",
       "        vertical-align: middle;\n",
       "    }\n",
       "\n",
       "    .dataframe tbody tr th {\n",
       "        vertical-align: top;\n",
       "    }\n",
       "\n",
       "    .dataframe thead th {\n",
       "        text-align: right;\n",
       "    }\n",
       "</style>\n",
       "<table border=\"1\" class=\"dataframe\">\n",
       "  <thead>\n",
       "    <tr style=\"text-align: right;\">\n",
       "      <th></th>\n",
       "      <th>Group</th>\n",
       "      <th>groupsubmissionid</th>\n",
       "      <th>PolicyNumber</th>\n",
       "      <th>Status</th>\n",
       "      <th>RSE_Name</th>\n",
       "      <th>RSS_Name</th>\n",
       "      <th>Underwriter_Name</th>\n",
       "      <th>BrokerName</th>\n",
       "      <th>TopBrokerInd</th>\n",
       "      <th>StateName</th>\n",
       "      <th>...</th>\n",
       "      <th>Wells_Stephen_Bronder</th>\n",
       "      <th>Willis_Andy_Cookingham</th>\n",
       "      <th>Willis_David_Johnson</th>\n",
       "      <th>Willis_Richard_Bradford</th>\n",
       "      <th>Include</th>\n",
       "      <th>X</th>\n",
       "      <th>X.1</th>\n",
       "      <th>X.2</th>\n",
       "      <th>X.3</th>\n",
       "      <th>Train</th>\n",
       "    </tr>\n",
       "  </thead>\n",
       "  <tbody>\n",
       "    <tr>\n",
       "      <th>0</th>\n",
       "      <td>e</td>\n",
       "      <td>0f0c07cf-cba4-407f-a025-5489b1e07a99</td>\n",
       "      <td>NaN</td>\n",
       "      <td>Quoted</td>\n",
       "      <td>Chris Tate</td>\n",
       "      <td>Lauren Bishop</td>\n",
       "      <td>Lauren Bishop</td>\n",
       "      <td>Charon Planning</td>\n",
       "      <td>0</td>\n",
       "      <td>NJ</td>\n",
       "      <td>...</td>\n",
       "      <td>0</td>\n",
       "      <td>0</td>\n",
       "      <td>0</td>\n",
       "      <td>0</td>\n",
       "      <td>0</td>\n",
       "      <td>NaN</td>\n",
       "      <td>NaN</td>\n",
       "      <td>NaN</td>\n",
       "      <td>NaN</td>\n",
       "      <td>1</td>\n",
       "    </tr>\n",
       "    <tr>\n",
       "      <th>1</th>\n",
       "      <td>Fayette Resources</td>\n",
       "      <td>2f5e1bf9-0a04-4034-b43c-59d40eb53089</td>\n",
       "      <td>NaN</td>\n",
       "      <td>Dead</td>\n",
       "      <td>Stephen Bronder</td>\n",
       "      <td>Mary Stasik</td>\n",
       "      <td>Ellen Calitri</td>\n",
       "      <td>Willis</td>\n",
       "      <td>1</td>\n",
       "      <td>PA</td>\n",
       "      <td>...</td>\n",
       "      <td>0</td>\n",
       "      <td>0</td>\n",
       "      <td>0</td>\n",
       "      <td>0</td>\n",
       "      <td>0</td>\n",
       "      <td>NaN</td>\n",
       "      <td>NaN</td>\n",
       "      <td>NaN</td>\n",
       "      <td>NaN</td>\n",
       "      <td>0</td>\n",
       "    </tr>\n",
       "    <tr>\n",
       "      <th>2</th>\n",
       "      <td>Fortegra Financial</td>\n",
       "      <td>0b8ab22e-c7a0-478c-80cc-61eaf0a339a3</td>\n",
       "      <td>NaN</td>\n",
       "      <td>Dead</td>\n",
       "      <td>Chris Farmen</td>\n",
       "      <td>Mary Hewitt</td>\n",
       "      <td>Tyler Adams</td>\n",
       "      <td>Greene Hazel</td>\n",
       "      <td>0</td>\n",
       "      <td>FL</td>\n",
       "      <td>...</td>\n",
       "      <td>0</td>\n",
       "      <td>0</td>\n",
       "      <td>0</td>\n",
       "      <td>0</td>\n",
       "      <td>3</td>\n",
       "      <td>NaN</td>\n",
       "      <td>NaN</td>\n",
       "      <td>NaN</td>\n",
       "      <td>NaN</td>\n",
       "      <td>1</td>\n",
       "    </tr>\n",
       "    <tr>\n",
       "      <th>3</th>\n",
       "      <td>Industrial Valve Sales &amp; Service, Inc.</td>\n",
       "      <td>59291dde-bca0-439e-afc5-25b686131a45</td>\n",
       "      <td>NaN</td>\n",
       "      <td>Dead</td>\n",
       "      <td>Richard Bradford</td>\n",
       "      <td>Dawn Cornelius</td>\n",
       "      <td>Matthew Jadovich</td>\n",
       "      <td>HUB International</td>\n",
       "      <td>0</td>\n",
       "      <td>AL</td>\n",
       "      <td>...</td>\n",
       "      <td>0</td>\n",
       "      <td>0</td>\n",
       "      <td>0</td>\n",
       "      <td>0</td>\n",
       "      <td>0</td>\n",
       "      <td>NaN</td>\n",
       "      <td>NaN</td>\n",
       "      <td>NaN</td>\n",
       "      <td>NaN</td>\n",
       "      <td>0</td>\n",
       "    </tr>\n",
       "    <tr>\n",
       "      <th>4</th>\n",
       "      <td>Industrial Valve Sales &amp; Service, Inc.</td>\n",
       "      <td>62bc3d72-f2af-4cc9-8eb5-25c26c7485bd</td>\n",
       "      <td>NaN</td>\n",
       "      <td>Quoted</td>\n",
       "      <td>Richard Bradford</td>\n",
       "      <td>Dawn Cornelius</td>\n",
       "      <td>Eric Elam</td>\n",
       "      <td>HUB International</td>\n",
       "      <td>0</td>\n",
       "      <td>AL</td>\n",
       "      <td>...</td>\n",
       "      <td>0</td>\n",
       "      <td>0</td>\n",
       "      <td>0</td>\n",
       "      <td>0</td>\n",
       "      <td>3</td>\n",
       "      <td>NaN</td>\n",
       "      <td>NaN</td>\n",
       "      <td>NaN</td>\n",
       "      <td>NaN</td>\n",
       "      <td>0</td>\n",
       "    </tr>\n",
       "  </tbody>\n",
       "</table>\n",
       "<p>5 rows × 172 columns</p>\n",
       "</div>"
      ],
      "text/plain": [
       "                                     Group  \\\n",
       "0                                        e   \n",
       "1                        Fayette Resources   \n",
       "2                       Fortegra Financial   \n",
       "3   Industrial Valve Sales & Service, Inc.   \n",
       "4   Industrial Valve Sales & Service, Inc.   \n",
       "\n",
       "                      groupsubmissionid PolicyNumber  Status  \\\n",
       "0  0f0c07cf-cba4-407f-a025-5489b1e07a99          NaN  Quoted   \n",
       "1  2f5e1bf9-0a04-4034-b43c-59d40eb53089          NaN    Dead   \n",
       "2  0b8ab22e-c7a0-478c-80cc-61eaf0a339a3          NaN    Dead   \n",
       "3  59291dde-bca0-439e-afc5-25b686131a45          NaN    Dead   \n",
       "4  62bc3d72-f2af-4cc9-8eb5-25c26c7485bd          NaN  Quoted   \n",
       "\n",
       "           RSE_Name        RSS_Name  Underwriter_Name         BrokerName  \\\n",
       "0        Chris Tate   Lauren Bishop     Lauren Bishop    Charon Planning   \n",
       "1   Stephen Bronder     Mary Stasik     Ellen Calitri             Willis   \n",
       "2      Chris Farmen     Mary Hewitt       Tyler Adams       Greene Hazel   \n",
       "3  Richard Bradford  Dawn Cornelius  Matthew Jadovich  HUB International   \n",
       "4  Richard Bradford  Dawn Cornelius         Eric Elam  HUB International   \n",
       "\n",
       "   TopBrokerInd StateName  ...    Wells_Stephen_Bronder  \\\n",
       "0             0        NJ  ...                        0   \n",
       "1             1        PA  ...                        0   \n",
       "2             0        FL  ...                        0   \n",
       "3             0        AL  ...                        0   \n",
       "4             0        AL  ...                        0   \n",
       "\n",
       "   Willis_Andy_Cookingham  Willis_David_Johnson  Willis_Richard_Bradford  \\\n",
       "0                       0                     0                        0   \n",
       "1                       0                     0                        0   \n",
       "2                       0                     0                        0   \n",
       "3                       0                     0                        0   \n",
       "4                       0                     0                        0   \n",
       "\n",
       "   Include   X X.1  X.2  X.3  Train  \n",
       "0        0 NaN NaN  NaN  NaN      1  \n",
       "1        0 NaN NaN  NaN  NaN      0  \n",
       "2        3 NaN NaN  NaN  NaN      1  \n",
       "3        0 NaN NaN  NaN  NaN      0  \n",
       "4        3 NaN NaN  NaN  NaN      0  \n",
       "\n",
       "[5 rows x 172 columns]"
      ]
     },
     "execution_count": 7,
     "metadata": {},
     "output_type": "execute_result"
    }
   ],
   "source": [
    "#katovc\n",
    "df_nan=df[df.isnull().any(axis=1)]\n",
    "df_nan.head()\n"
   ]
  },
  {
   "cell_type": "code",
   "execution_count": null,
   "metadata": {},
   "outputs": [],
   "source": []
  },
  {
   "cell_type": "code",
   "execution_count": 8,
   "metadata": {
    "ExecuteTime": {
     "end_time": "2018-10-26T21:17:24.686346Z",
     "start_time": "2018-10-26T21:17:24.672309Z"
    }
   },
   "outputs": [
    {
     "name": "stdout",
     "output_type": "stream",
     "text": [
      "Percentage of Cases Sold: 9.4405%\n"
     ]
    }
   ],
   "source": [
    "# The portion of cases that resulted in a Sale\n",
    "\n",
    "print(\"Percentage of Cases Sold: %.4f\" % (100 * df.Sold.sum() / df.shape[0]) + '%')"
   ]
  },
  {
   "cell_type": "markdown",
   "metadata": {},
   "source": [
    "<h2> katovc comment </h2>\n",
    "<p> Is it ok to replace all nan to 0?. Need to verify that major vriables are not affected </p>"
   ]
  },
  {
   "cell_type": "code",
   "execution_count": 9,
   "metadata": {
    "ExecuteTime": {
     "end_time": "2018-10-26T21:17:24.717430Z",
     "start_time": "2018-10-26T21:17:24.688352Z"
    }
   },
   "outputs": [],
   "source": [
    "# Replace all NaN with 0\n",
    "\n",
    "df.fillna(0, inplace=True)"
   ]
  },
  {
   "cell_type": "code",
   "execution_count": 10,
   "metadata": {
    "ExecuteTime": {
     "end_time": "2018-10-26T21:17:24.738486Z",
     "start_time": "2018-10-26T21:17:24.721443Z"
    }
   },
   "outputs": [],
   "source": [
    "# Group is not descriptive -> drop\n",
    "# groupsubmissionid is not descriptive -> drop\n",
    "# PolicyNumber is not descriptive -> drop\n",
    "# Status gives away final disposition of case -> drop\n",
    "# Keep RSE_Name -> convert to ratio\n",
    "# Keep RSS_Name -> convert to ratio\n",
    "# Underwriter_Name -> convert to ratio\n",
    "# BrokerName -> convert to ratio\n",
    "# TopBroker is redundant -> discard\n",
    "# StateName -> convert to region\n",
    "# What is SIC Code?\n",
    "# EffectiveMonth -> convert to 11 columns one-hot\n",
    "# EffectiveYear -> no trend with QTI, drop\n",
    "# GroupNameMaxLives redundant -> drop\n",
    "# GroupIdMaxLives redundant -> drop\n",
    "# Segment -> 0, 1, 2\n",
    "# CloseRatioNumerator redundant -> drop"
   ]
  },
  {
   "cell_type": "code",
   "execution_count": 11,
   "metadata": {
    "ExecuteTime": {
     "end_time": "2018-10-26T21:17:24.780600Z",
     "start_time": "2018-10-26T21:17:24.741499Z"
    }
   },
   "outputs": [],
   "source": [
    "df.drop(['Group', 'groupsubmissionid', 'PolicyNumber',\n",
    "         'Status', 'TopBrokerInd', 'SIC_Code', 'EffectiveYear',\n",
    "         'GroupNameMaxLives', 'GroupIdMaxLives',\n",
    "         'CloseRatioNumerator'], axis=1, inplace=True)"
   ]
  },
  {
   "cell_type": "code",
   "execution_count": 12,
   "metadata": {},
   "outputs": [
    {
     "data": {
      "text/plain": [
       "['RSE_Name',\n",
       " 'RSS_Name',\n",
       " 'Underwriter_Name',\n",
       " 'BrokerName',\n",
       " 'StateName',\n",
       " 'EffectiveMonth',\n",
       " 'MaxLives',\n",
       " 'Segment',\n",
       " 'Life',\n",
       " 'LTD',\n",
       " 'STD',\n",
       " 'QuotedAnnualPremium',\n",
       " 'InforceAnnualPremium',\n",
       " 'FormulaAnnualPremium',\n",
       " 'ManualAnnualPremium',\n",
       " 'NeededAnnualPremium',\n",
       " 'LifeQuotedAnnualPremium',\n",
       " 'LTDQuotedAnnualPremium',\n",
       " 'STDQuotedAnnualPremium',\n",
       " 'LifeInforceAnnualPremium',\n",
       " 'LTDInforceAnnualPremium',\n",
       " 'STDInforceAnnualPremium',\n",
       " 'LifeFormulaAnnualPremium',\n",
       " 'LTDFormulaAnnualPremium',\n",
       " 'STDFormulaAnnualPremium',\n",
       " 'LifeManualAnnualPremium',\n",
       " 'LTDManualAnnualPremium',\n",
       " 'STDManualAnnualPremium',\n",
       " 'LifeNeededAnnualPremium',\n",
       " 'LTDNeededAnnualPremium',\n",
       " 'STDNeededAnnualPremium',\n",
       " 'QTI',\n",
       " 'QTI_Range_7',\n",
       " 'QTI_Range_5',\n",
       " 'QuotedPremium_CR',\n",
       " 'SoldPremium_CR',\n",
       " 'Matthew_Jadovich',\n",
       " 'Eric_Elam',\n",
       " 'Michael_Reed',\n",
       " 'Chris_Brown',\n",
       " 'Peter_Klepadlo',\n",
       " 'Tangie_Jewell',\n",
       " 'Peter_Ouellette',\n",
       " 'Zachary_Papotto',\n",
       " 'David_Spak',\n",
       " 'Rich_Kichnet',\n",
       " 'Amy_Kniffen',\n",
       " 'Ben_Shehu',\n",
       " 'Dan_Dalton',\n",
       " 'Brad_Johnson',\n",
       " 'Casey_Mayfield',\n",
       " 'Matthew_Doucette',\n",
       " 'Keith_Daigle',\n",
       " 'Brett_Anglin',\n",
       " 'Kevin_Fitzgerald',\n",
       " 'Sharon_Dery',\n",
       " 'Diane_Bruey',\n",
       " 'John_Dwyer',\n",
       " 'Richard_Bradford',\n",
       " 'Stephen_Bronder',\n",
       " 'David_Johnson',\n",
       " 'Mark_Crisler',\n",
       " 'Chris_Koettker',\n",
       " 'Johnathan_Gingras',\n",
       " 'Jenn_Biestman',\n",
       " 'Andy_Cookingham',\n",
       " 'Jake_Brower',\n",
       " 'Dru_Fenimore',\n",
       " 'Paul_Monica',\n",
       " 'Clint_Butler',\n",
       " 'Peter_Field',\n",
       " 'Greg_Stevens',\n",
       " 'SM',\n",
       " 'LM',\n",
       " 'Mapped_Broker',\n",
       " 'Sold',\n",
       " 'Gallagher',\n",
       " 'Willis',\n",
       " 'USI',\n",
       " 'Alliant',\n",
       " 'HUB',\n",
       " 'Wells',\n",
       " 'Lockton',\n",
       " 'Brown',\n",
       " 'NFP',\n",
       " 'Mercer',\n",
       " 'AmeriHealth',\n",
       " 'Hays',\n",
       " 'Stealth',\n",
       " 'BBT',\n",
       " 'Solstice',\n",
       " 'Indigo',\n",
       " 'Holmes',\n",
       " 'SSNesbitt',\n",
       " 'MarshMcelnnan',\n",
       " 'Gibson',\n",
       " 'Cornerstone',\n",
       " 'CBIZ',\n",
       " 'Barney_Barney',\n",
       " 'VHA',\n",
       " 'BenefitPlanning',\n",
       " 'CSA',\n",
       " 'Horan',\n",
       " 'MJ',\n",
       " 'EBS',\n",
       " 'CTHellmuth',\n",
       " 'Heffernan',\n",
       " 'FBS',\n",
       " 'Assured',\n",
       " 'Trinity',\n",
       " 'ASLR',\n",
       " 'Vizient',\n",
       " 'GroupInsurance',\n",
       " 'IPS',\n",
       " 'UBA',\n",
       " 'Horton',\n",
       " 'Digital',\n",
       " 'Cobbs',\n",
       " 'SherrillMorgan',\n",
       " 'Coporate',\n",
       " 'Arizona',\n",
       " 'Premier',\n",
       " 'Segal',\n",
       " 'Relph',\n",
       " 'BeneUSA',\n",
       " 'InsuranceSolutions',\n",
       " 'Apex',\n",
       " 'PeterFoy',\n",
       " 'StHealth',\n",
       " 'Alliant_Dru_Fenimore',\n",
       " 'Alliant_Mark_Crisler',\n",
       " 'Apex_Jake_Brower',\n",
       " 'Gallagher_Dru_Fenimore',\n",
       " 'Gallagher_Johnathan_Gingras',\n",
       " 'Gallagher_Mark_Crisler',\n",
       " 'Gallagher_Stephen_Bronder',\n",
       " 'ASLR_Dru_Fenimore',\n",
       " 'Brown_Peter_Field',\n",
       " 'Cobbs_Richard_Bradford',\n",
       " 'FBS_Dru_Fenimore',\n",
       " 'Gibson_Jake_Brower',\n",
       " 'Hays_David_Johnson',\n",
       " 'Horan_Jake_Brower',\n",
       " 'HUB_Dru_Fenimore',\n",
       " 'Indigo_Greg_Stevens',\n",
       " 'Lockton_Clint_Butler',\n",
       " 'MJ_Jake_Brower',\n",
       " 'NFP_Johnathan_Gingras',\n",
       " 'SSNesbitt_Richard_Bradford',\n",
       " 'SherrillMorgan_Jake_Brower',\n",
       " 'USI_Dru_Fenimore',\n",
       " 'USI_Mark_Crisler',\n",
       " 'Wells_Stephen_Bronder',\n",
       " 'Willis_Andy_Cookingham',\n",
       " 'Willis_David_Johnson',\n",
       " 'Willis_Richard_Bradford',\n",
       " 'Include',\n",
       " 'X',\n",
       " 'X.1',\n",
       " 'X.2',\n",
       " 'X.3',\n",
       " 'Train']"
      ]
     },
     "execution_count": 12,
     "metadata": {},
     "output_type": "execute_result"
    }
   ],
   "source": [
    "list(df.columns)"
   ]
  },
  {
   "cell_type": "markdown",
   "metadata": {},
   "source": [
    "## 2) Exploratory Data Analysis & Feature Selection"
   ]
  },
  {
   "cell_type": "code",
   "execution_count": 13,
   "metadata": {
    "ExecuteTime": {
     "end_time": "2018-10-26T21:17:24.965097Z",
     "start_time": "2018-10-26T21:17:24.784611Z"
    },
    "scrolled": true
   },
   "outputs": [
    {
     "data": {
      "text/plain": [
       "Text(0.5,1,'Class Distributions: Unsold (0) vs. Sold (1)')"
      ]
     },
     "execution_count": 13,
     "metadata": {},
     "output_type": "execute_result"
    },
    {
     "data": {
      "image/png": "[encoded data removed]",
      "text/plain": [
       "<Figure size 432x288 with 1 Axes>"
      ]
     },
     "metadata": {
      "needs_background": "light"
     },
     "output_type": "display_data"
    }
   ],
   "source": [
    "sns.countplot('Sold', data=df);\n",
    "plt.title('Class Distributions: Unsold (0) vs. Sold (1)')"
   ]
  },
  {
   "cell_type": "code",
   "execution_count": 14,
   "metadata": {
    "ExecuteTime": {
     "end_time": "2018-10-26T21:17:25.188699Z",
     "start_time": "2018-10-26T21:17:24.968104Z"
    }
   },
   "outputs": [
    {
     "data": {
      "text/plain": [
       "Text(0,0.5,'Proportion Sold')"
      ]
     },
     "execution_count": 14,
     "metadata": {},
     "output_type": "execute_result"
    },
    {
     "data": {
      "image/png": "[encoded data removed]",
      "text/plain": [
       "<Figure size 432x288 with 1 Axes>"
      ]
     },
     "metadata": {
      "needs_background": "light"
     },
     "output_type": "display_data"
    }
   ],
   "source": [
    "# Proportion sold by month of the year\n",
    "\n",
    "pd.Series(df.Sold.groupby(df.EffectiveMonth).sum() / df.Sold.groupby(df.EffectiveMonth).count()).plot(kind=\"bar\")\n",
    "plt.ylabel('Proportion Sold')"
   ]
  },
  {
   "cell_type": "code",
   "execution_count": 15,
   "metadata": {},
   "outputs": [
    {
     "data": {
      "text/plain": [
       "Text(0,0.5,'Case count by month')"
      ]
     },
     "execution_count": 15,
     "metadata": {},
     "output_type": "execute_result"
    },
    {
     "data": {
      "image/png": "[encoded data removed]",
      "text/plain": [
       "<Figure size 432x288 with 1 Axes>"
      ]
     },
     "metadata": {
      "needs_background": "light"
     },
     "output_type": "display_data"
    }
   ],
   "source": [
    "# katovc\n",
    "\n",
    "pd.Series(df.groupby(df.EffectiveMonth).size()).plot(kind=\"bar\")\n",
    "plt.ylabel('Case count by month')"
   ]
  },
  {
   "cell_type": "code",
   "execution_count": 16,
   "metadata": {
    "ExecuteTime": {
     "end_time": "2018-10-26T21:17:25.217777Z",
     "start_time": "2018-10-26T21:17:25.190706Z"
    }
   },
   "outputs": [],
   "source": [
    "# Split EffectiveMonth into separate columns corresponding to each month\n",
    "\n",
    "df = pd.concat([df, pd.get_dummies(df.EffectiveMonth, drop_first=True, prefix='Month')], axis=1)"
   ]
  },
  {
   "cell_type": "code",
   "execution_count": 17,
   "metadata": {
    "ExecuteTime": {
     "end_time": "2018-10-26T21:17:25.289970Z",
     "start_time": "2018-10-26T21:17:25.219782Z"
    }
   },
   "outputs": [],
   "source": [
    "df.drop('EffectiveMonth', axis=1, inplace=True)"
   ]
  },
  {
   "cell_type": "code",
   "execution_count": 18,
   "metadata": {
    "ExecuteTime": {
     "end_time": "2018-10-26T21:17:25.310024Z",
     "start_time": "2018-10-26T21:17:25.291976Z"
    }
   },
   "outputs": [],
   "source": [
    "# Separate states into region of the US\n",
    "\n",
    "west = ['WA', 'OR', 'CA', 'ID', 'NV', 'MT', 'WY', 'UT', 'CO']\n",
    "southwest = ['AZ', 'NM', 'OK', 'TX']\n",
    "midwest = ['ND', 'SD', 'NE', 'KS', 'MN', 'IA', 'MO', 'WI', 'IL', 'MI', 'IN', 'OH']\n",
    "northeast = ['ME', 'NH', 'VT', 'MA', 'NY', 'RI', 'CT', 'NJ', 'PA']\n",
    "southeast = ['WV', 'DE', 'MD', 'VA', 'DC', 'KY', 'TN', 'NC', 'AR', 'LA', 'MS', 'AL', 'GA', 'SC', 'FL']\n",
    "\n",
    "df['west'] = np.where(df['StateName'].isin(west), 1, 0)\n",
    "df['southwest'] = np.where(df['StateName'].isin(southwest), 1, 0)\n",
    "df['midwest'] = np.where(df['StateName'].isin(midwest), 1, 0)\n",
    "df['northeast'] = np.where(df['StateName'].isin(northeast), 1, 0)\n",
    "df['southeast'] = np.where(df['StateName'].isin(southeast), 1, 0)"
   ]
  },
  {
   "cell_type": "code",
   "execution_count": 19,
   "metadata": {
    "ExecuteTime": {
     "end_time": "2018-10-26T21:17:25.345118Z",
     "start_time": "2018-10-26T21:17:25.313033Z"
    }
   },
   "outputs": [],
   "source": [
    "# Convert Segment to 0, 1, and 2\n",
    "\n",
    "df = pd.concat([df, pd.get_dummies(df.Segment, drop_first=True, prefix='Segment')], axis=1)"
   ]
  },
  {
   "cell_type": "code",
   "execution_count": 20,
   "metadata": {
    "ExecuteTime": {
     "end_time": "2018-10-26T21:17:25.405281Z",
     "start_time": "2018-10-26T21:17:25.349129Z"
    }
   },
   "outputs": [],
   "source": [
    "df.drop('Segment', axis=1, inplace=True)"
   ]
  },
  {
   "cell_type": "code",
   "execution_count": 21,
   "metadata": {
    "ExecuteTime": {
     "end_time": "2018-10-26T21:17:25.416314Z",
     "start_time": "2018-10-26T21:17:25.408290Z"
    }
   },
   "outputs": [],
   "source": [
    "# Function that creates a dictionary of proportion of cases sold\n",
    "\n",
    "def create_dict(series):\n",
    "    dict_prop = pd.Series(train.groupby(series.name)['Sold'].sum() /\n",
    "                          train.groupby(series.name)['Sold'].count()).to_dict()\n",
    "    return dict_prop"
   ]
  },
  {
   "cell_type": "code",
   "execution_count": 22,
   "metadata": {
    "ExecuteTime": {
     "end_time": "2018-10-26T21:17:25.446391Z",
     "start_time": "2018-10-26T21:17:25.424332Z"
    }
   },
   "outputs": [],
   "source": [
    "# Function that generates ratio of sold cases over total cases for any categorical feature\n",
    "\n",
    "def proportion(series):\n",
    "    dict_prop = create_dict(series)\n",
    "    \n",
    "    proportions = []\n",
    "    for ii in series:\n",
    "        if pd.isnull(ii):\n",
    "            proportions.append(0)\n",
    "            # print('Null')\n",
    "        elif ii not in dict_prop:\n",
    "            proportions.append(0)\n",
    "            # print(ii)\n",
    "        else:\n",
    "            proportions.append(dict_prop[ii])\n",
    "            # print('Found')\n",
    "    return(pd.Series(proportions))"
   ]
  },
  {
   "cell_type": "code",
   "execution_count": 23,
   "metadata": {
    "ExecuteTime": {
     "end_time": "2018-10-26T21:17:25.506554Z",
     "start_time": "2018-10-26T21:17:25.449400Z"
    }
   },
   "outputs": [],
   "source": [
    "# Generate train set and test set\n",
    "\n",
    "Xtrain, Xtest, ytrain, ytest = train_test_split(df.drop('Sold', axis=1), df.Sold, shuffle=True, random_state=1)"
   ]
  },
  {
   "cell_type": "code",
   "execution_count": 24,
   "metadata": {
    "ExecuteTime": {
     "end_time": "2018-10-26T21:17:25.530617Z",
     "start_time": "2018-10-26T21:17:25.508559Z"
    }
   },
   "outputs": [],
   "source": [
    "#katovc: is dropping index nessessary? won't be able to trace cases to the original dataset\n",
    "Xtrain = Xtrain.reset_index(drop=True)\n",
    "Xtest = Xtest.reset_index(drop=True)\n",
    "ytrain = ytrain.reset_index(drop=True)\n",
    "ytest = ytest.reset_index(drop=True)"
   ]
  },
  {
   "cell_type": "code",
   "execution_count": 25,
   "metadata": {},
   "outputs": [
    {
     "data": {
      "text/html": [
       "<div>\n",
       "<style scoped>\n",
       "    .dataframe tbody tr th:only-of-type {\n",
       "        vertical-align: middle;\n",
       "    }\n",
       "\n",
       "    .dataframe tbody tr th {\n",
       "        vertical-align: top;\n",
       "    }\n",
       "\n",
       "    .dataframe thead th {\n",
       "        text-align: right;\n",
       "    }\n",
       "</style>\n",
       "<table border=\"1\" class=\"dataframe\">\n",
       "  <thead>\n",
       "    <tr style=\"text-align: right;\">\n",
       "      <th></th>\n",
       "      <th>RSE_Name</th>\n",
       "      <th>RSS_Name</th>\n",
       "      <th>Underwriter_Name</th>\n",
       "      <th>BrokerName</th>\n",
       "      <th>StateName</th>\n",
       "      <th>MaxLives</th>\n",
       "      <th>Life</th>\n",
       "      <th>LTD</th>\n",
       "      <th>STD</th>\n",
       "      <th>QuotedAnnualPremium</th>\n",
       "      <th>...</th>\n",
       "      <th>Month_11</th>\n",
       "      <th>Month_12</th>\n",
       "      <th>west</th>\n",
       "      <th>southwest</th>\n",
       "      <th>midwest</th>\n",
       "      <th>northeast</th>\n",
       "      <th>southeast</th>\n",
       "      <th>Segment_LM</th>\n",
       "      <th>Segment_MM</th>\n",
       "      <th>Segment_SM</th>\n",
       "    </tr>\n",
       "  </thead>\n",
       "  <tbody>\n",
       "    <tr>\n",
       "      <th>0</th>\n",
       "      <td>Chris Tate</td>\n",
       "      <td>Lauren Bishop</td>\n",
       "      <td>Lauren Bishop</td>\n",
       "      <td>Charon Planning</td>\n",
       "      <td>NJ</td>\n",
       "      <td>40.0</td>\n",
       "      <td>1</td>\n",
       "      <td>1</td>\n",
       "      <td>1</td>\n",
       "      <td>76169.8900</td>\n",
       "      <td>...</td>\n",
       "      <td>0</td>\n",
       "      <td>0</td>\n",
       "      <td>0</td>\n",
       "      <td>0</td>\n",
       "      <td>0</td>\n",
       "      <td>1</td>\n",
       "      <td>0</td>\n",
       "      <td>0</td>\n",
       "      <td>0</td>\n",
       "      <td>1</td>\n",
       "    </tr>\n",
       "    <tr>\n",
       "      <th>1</th>\n",
       "      <td>Stephen Bronder</td>\n",
       "      <td>Mary Stasik</td>\n",
       "      <td>Ellen Calitri</td>\n",
       "      <td>Willis</td>\n",
       "      <td>PA</td>\n",
       "      <td>664.0</td>\n",
       "      <td>1</td>\n",
       "      <td>1</td>\n",
       "      <td>1</td>\n",
       "      <td>114226.8463</td>\n",
       "      <td>...</td>\n",
       "      <td>0</td>\n",
       "      <td>0</td>\n",
       "      <td>0</td>\n",
       "      <td>0</td>\n",
       "      <td>0</td>\n",
       "      <td>1</td>\n",
       "      <td>0</td>\n",
       "      <td>0</td>\n",
       "      <td>1</td>\n",
       "      <td>0</td>\n",
       "    </tr>\n",
       "    <tr>\n",
       "      <th>2</th>\n",
       "      <td>Chris Farmen</td>\n",
       "      <td>Mary Hewitt</td>\n",
       "      <td>Tyler Adams</td>\n",
       "      <td>Greene Hazel</td>\n",
       "      <td>FL</td>\n",
       "      <td>453.0</td>\n",
       "      <td>1</td>\n",
       "      <td>1</td>\n",
       "      <td>1</td>\n",
       "      <td>257961.2820</td>\n",
       "      <td>...</td>\n",
       "      <td>0</td>\n",
       "      <td>0</td>\n",
       "      <td>0</td>\n",
       "      <td>0</td>\n",
       "      <td>0</td>\n",
       "      <td>0</td>\n",
       "      <td>1</td>\n",
       "      <td>0</td>\n",
       "      <td>0</td>\n",
       "      <td>1</td>\n",
       "    </tr>\n",
       "    <tr>\n",
       "      <th>3</th>\n",
       "      <td>Richard Bradford</td>\n",
       "      <td>Dawn Cornelius</td>\n",
       "      <td>Matthew Jadovich</td>\n",
       "      <td>HUB International</td>\n",
       "      <td>AL</td>\n",
       "      <td>298.0</td>\n",
       "      <td>1</td>\n",
       "      <td>1</td>\n",
       "      <td>1</td>\n",
       "      <td>191220.7870</td>\n",
       "      <td>...</td>\n",
       "      <td>0</td>\n",
       "      <td>0</td>\n",
       "      <td>0</td>\n",
       "      <td>0</td>\n",
       "      <td>0</td>\n",
       "      <td>0</td>\n",
       "      <td>1</td>\n",
       "      <td>0</td>\n",
       "      <td>0</td>\n",
       "      <td>1</td>\n",
       "    </tr>\n",
       "    <tr>\n",
       "      <th>4</th>\n",
       "      <td>Richard Bradford</td>\n",
       "      <td>Dawn Cornelius</td>\n",
       "      <td>Eric Elam</td>\n",
       "      <td>HUB International</td>\n",
       "      <td>AL</td>\n",
       "      <td>252.0</td>\n",
       "      <td>1</td>\n",
       "      <td>1</td>\n",
       "      <td>1</td>\n",
       "      <td>225829.5970</td>\n",
       "      <td>...</td>\n",
       "      <td>0</td>\n",
       "      <td>0</td>\n",
       "      <td>0</td>\n",
       "      <td>0</td>\n",
       "      <td>0</td>\n",
       "      <td>0</td>\n",
       "      <td>1</td>\n",
       "      <td>0</td>\n",
       "      <td>0</td>\n",
       "      <td>1</td>\n",
       "    </tr>\n",
       "  </tbody>\n",
       "</table>\n",
       "<p>5 rows × 179 columns</p>\n",
       "</div>"
      ],
      "text/plain": [
       "           RSE_Name        RSS_Name  Underwriter_Name         BrokerName  \\\n",
       "0        Chris Tate   Lauren Bishop     Lauren Bishop    Charon Planning   \n",
       "1   Stephen Bronder     Mary Stasik     Ellen Calitri             Willis   \n",
       "2      Chris Farmen     Mary Hewitt       Tyler Adams       Greene Hazel   \n",
       "3  Richard Bradford  Dawn Cornelius  Matthew Jadovich  HUB International   \n",
       "4  Richard Bradford  Dawn Cornelius         Eric Elam  HUB International   \n",
       "\n",
       "  StateName  MaxLives  Life  LTD  STD  QuotedAnnualPremium     ...      \\\n",
       "0        NJ      40.0     1    1    1           76169.8900     ...       \n",
       "1        PA     664.0     1    1    1          114226.8463     ...       \n",
       "2        FL     453.0     1    1    1          257961.2820     ...       \n",
       "3        AL     298.0     1    1    1          191220.7870     ...       \n",
       "4        AL     252.0     1    1    1          225829.5970     ...       \n",
       "\n",
       "   Month_11  Month_12  west  southwest  midwest  northeast  southeast  \\\n",
       "0         0         0     0          0        0          1          0   \n",
       "1         0         0     0          0        0          1          0   \n",
       "2         0         0     0          0        0          0          1   \n",
       "3         0         0     0          0        0          0          1   \n",
       "4         0         0     0          0        0          0          1   \n",
       "\n",
       "   Segment_LM  Segment_MM  Segment_SM  \n",
       "0           0           0           1  \n",
       "1           0           1           0  \n",
       "2           0           0           1  \n",
       "3           0           0           1  \n",
       "4           0           0           1  \n",
       "\n",
       "[5 rows x 179 columns]"
      ]
     },
     "execution_count": 25,
     "metadata": {},
     "output_type": "execute_result"
    }
   ],
   "source": [
    "df.head()"
   ]
  },
  {
   "cell_type": "code",
   "execution_count": null,
   "metadata": {},
   "outputs": [],
   "source": []
  },
  {
   "cell_type": "code",
   "execution_count": 26,
   "metadata": {
    "ExecuteTime": {
     "end_time": "2018-10-26T21:17:25.561704Z",
     "start_time": "2018-10-26T21:17:25.533627Z"
    }
   },
   "outputs": [],
   "source": [
    "train = pd.concat([Xtrain, ytrain], axis=1)\n",
    "test = pd.concat([Xtest, ytest], axis=1)"
   ]
  },
  {
   "cell_type": "code",
   "execution_count": 27,
   "metadata": {
    "ExecuteTime": {
     "end_time": "2018-10-26T21:17:25.576743Z",
     "start_time": "2018-10-26T21:17:25.563707Z"
    }
   },
   "outputs": [
    {
     "name": "stdout",
     "output_type": "stream",
     "text": [
      "[1.990000e-02 9.604750e-01 1.000000e+00 1.103325e+00 8.264460e+01]\n"
     ]
    }
   ],
   "source": [
    "### Bin QTI in order to minimize right-skew\n",
    "\n",
    "train['QTI_binned'], bins = pd.qcut(train.QTI, q=4\n",
    "                                    , labels=False, retbins=True)\n",
    "test['QTI_binned'] = pd.cut(test.QTI, bins, labels=False)\n",
    "print(bins)"
   ]
  },
  {
   "cell_type": "code",
   "execution_count": 28,
   "metadata": {
    "ExecuteTime": {
     "end_time": "2018-10-26T21:17:25.845466Z",
     "start_time": "2018-10-26T21:17:25.579750Z"
    }
   },
   "outputs": [
    {
     "data": {
      "text/plain": [
       "Text(0,0.5,'Proportion Sold vs. QTI')"
      ]
     },
     "execution_count": 28,
     "metadata": {},
     "output_type": "execute_result"
    },
    {
     "data": {
      "image/png": "[encoded data removed]",
      "text/plain": [
       "<Figure size 432x288 with 1 Axes>"
      ]
     },
     "metadata": {
      "needs_background": "light"
     },
     "output_type": "display_data"
    }
   ],
   "source": [
    "pd.Series(train.Sold.groupby(train.QTI_binned).sum() / train.Sold.groupby(train.QTI_binned).count()).plot(kind=\"bar\")\n",
    "plt.ylabel('Proportion Sold vs. QTI')"
   ]
  },
  {
   "cell_type": "code",
   "execution_count": 29,
   "metadata": {},
   "outputs": [
    {
     "name": "stderr",
     "output_type": "stream",
     "text": [
      "C:\\Users\\katovc\\AppData\\Local\\Continuum\\anaconda3\\envs\\deeplearning\\lib\\site-packages\\scipy\\stats\\stats.py:1713: FutureWarning: Using a non-tuple sequence for multidimensional indexing is deprecated; use `arr[tuple(seq)]` instead of `arr[seq]`. In the future this will be interpreted as an array index, `arr[np.array(seq)]`, which will result either in an error or a different result.\n",
      "  return np.add.reduce(sorted[indexer] * weights, axis=axis) / sumval\n"
     ]
    },
    {
     "data": {
      "text/plain": [
       "<matplotlib.axes._subplots.AxesSubplot at 0x1895d051978>"
      ]
     },
     "execution_count": 29,
     "metadata": {},
     "output_type": "execute_result"
    },
    {
     "data": {
      "image/png": "[encoded data removed]",
      "text/plain": [
       "<Figure size 432x288 with 1 Axes>"
      ]
     },
     "metadata": {
      "needs_background": "light"
     },
     "output_type": "display_data"
    }
   ],
   "source": [
    "#katovc\n",
    "#sns.distplot(train.MaxLives)\n",
    "\n",
    "from scipy import stats\n",
    "sns.distplot(train.MaxLives, kde=False, fit=stats.expon) #lognorm is the same"
   ]
  },
  {
   "cell_type": "code",
   "execution_count": 30,
   "metadata": {
    "ExecuteTime": {
     "end_time": "2018-10-26T21:17:25.862512Z",
     "start_time": "2018-10-26T21:17:25.848474Z"
    }
   },
   "outputs": [
    {
     "name": "stdout",
     "output_type": "stream",
     "text": [
      "[0.00000000e+00 1.54000000e+02 4.07666667e+02 7.37369000e+05]\n"
     ]
    }
   ],
   "source": [
    "# Bin MaxLives in order to minimize right-skew\n",
    "\n",
    "train['MaxLives_binned'], bins = pd.qcut(train.MaxLives, q=3, labels=False, retbins=True)\n",
    "test['MaxLives_binned'] = pd.cut(test.MaxLives, bins, labels=False)\n",
    "print(bins)"
   ]
  },
  {
   "cell_type": "code",
   "execution_count": 31,
   "metadata": {
    "ExecuteTime": {
     "end_time": "2018-10-26T21:17:26.102156Z",
     "start_time": "2018-10-26T21:17:25.866523Z"
    }
   },
   "outputs": [
    {
     "data": {
      "text/plain": [
       "Text(0,0.5,'Proportion Sold')"
      ]
     },
     "execution_count": 31,
     "metadata": {},
     "output_type": "execute_result"
    },
    {
     "data": {
      "image/png": "[encoded data removed]",
      "text/plain": [
       "<Figure size 432x288 with 1 Axes>"
      ]
     },
     "metadata": {
      "needs_background": "light"
     },
     "output_type": "display_data"
    }
   ],
   "source": [
    "pd.Series(train.groupby('MaxLives_binned')['Sold'].sum() / train.groupby('MaxLives_binned')['Sold'].count()).plot(kind=\"bar\")\n",
    "plt.ylabel('Proportion Sold')"
   ]
  },
  {
   "cell_type": "code",
   "execution_count": 32,
   "metadata": {},
   "outputs": [
    {
     "data": {
      "text/plain": [
       "Text(0,0.5,'Max Lives')"
      ]
     },
     "execution_count": 32,
     "metadata": {},
     "output_type": "execute_result"
    },
    {
     "data": {
      "image/png": "[encoded data removed]",
      "text/plain": [
       "<Figure size 432x288 with 1 Axes>"
      ]
     },
     "metadata": {
      "needs_background": "light"
     },
     "output_type": "display_data"
    }
   ],
   "source": [
    "# katovc\n",
    "\n",
    "pd.Series(train.groupby(train.MaxLives).size()).plot(kind=\"bar\")\n",
    "plt.ylabel('Max Lives')"
   ]
  },
  {
   "cell_type": "code",
   "execution_count": 33,
   "metadata": {
    "ExecuteTime": {
     "end_time": "2018-10-26T21:17:26.119202Z",
     "start_time": "2018-10-26T21:17:26.105165Z"
    },
    "scrolled": true
   },
   "outputs": [
    {
     "name": "stdout",
     "output_type": "stream",
     "text": [
      "[1.10000000e+02 2.40361120e+04 6.83366354e+04 1.33431082e+05\n",
      " 3.06331067e+05 3.51426285e+07]\n"
     ]
    }
   ],
   "source": [
    "# Bin QuotedAnnualPremium in order to minimize right skew\n",
    "\n",
    "train['QuotedAnnualPremium_binned'], bins = pd.qcut(train.QuotedAnnualPremium, q=5, labels=False, retbins=True)\n",
    "test['QuotedAnnualPremium_binned'] = pd.cut(test.QuotedAnnualPremium, bins, labels=False)\n",
    "\n",
    "train['QuotedAnnualPremium_log']=np.log(train.QuotedAnnualPremium)\n",
    "test['QuotedAnnualPremium_log']=np.log(test.QuotedAnnualPremium)\n",
    "\n",
    "print(bins)"
   ]
  },
  {
   "cell_type": "code",
   "execution_count": 34,
   "metadata": {
    "ExecuteTime": {
     "end_time": "2018-10-26T21:17:26.327765Z",
     "start_time": "2018-10-26T21:17:26.122210Z"
    }
   },
   "outputs": [
    {
     "data": {
      "text/plain": [
       "Text(0,0.5,'Proportion Sold')"
      ]
     },
     "execution_count": 34,
     "metadata": {},
     "output_type": "execute_result"
    },
    {
     "data": {
      "image/png": "[encoded data removed]",
      "text/plain": [
       "<Figure size 432x288 with 1 Axes>"
      ]
     },
     "metadata": {
      "needs_background": "light"
     },
     "output_type": "display_data"
    }
   ],
   "source": [
    "pd.Series(train.groupby('QuotedAnnualPremium_binned')['Sold'].sum() / train.groupby('QuotedAnnualPremium_binned')['Sold'].count()).plot(kind=\"bar\")\n",
    "plt.ylabel('Proportion Sold')"
   ]
  },
  {
   "cell_type": "code",
   "execution_count": 35,
   "metadata": {
    "ExecuteTime": {
     "end_time": "2018-10-26T21:17:26.333781Z",
     "start_time": "2018-10-26T21:17:26.329771Z"
    }
   },
   "outputs": [],
   "source": [
    "# Keep RSE_Name -> convert to ratio\n",
    "# Keep RSS_Name -> convert to ratio\n",
    "# Underwriter_Name -> convert to ratio\n",
    "# BrokerName -> convert to ratio"
   ]
  },
  {
   "cell_type": "code",
   "execution_count": 36,
   "metadata": {
    "ExecuteTime": {
     "end_time": "2018-10-26T21:17:26.377899Z",
     "start_time": "2018-10-26T21:17:26.335786Z"
    }
   },
   "outputs": [],
   "source": [
    "# Generate sold ratio for categorical variable RSE_Name\n",
    "\n",
    "test['RSE_Name_ratio'] = proportion(test.RSE_Name)\n",
    "train['RSE_Name_ratio'] = proportion(train.RSE_Name)"
   ]
  },
  {
   "cell_type": "code",
   "execution_count": 37,
   "metadata": {
    "ExecuteTime": {
     "end_time": "2018-10-26T21:17:26.420012Z",
     "start_time": "2018-10-26T21:17:26.380907Z"
    }
   },
   "outputs": [],
   "source": [
    "# Generate sold ratio for categorical variable RSS_Name\n",
    "\n",
    "test['RSS_Name_ratio'] = proportion(test.RSS_Name)\n",
    "train['RSS_Name_ratio'] = proportion(train.RSS_Name)"
   ]
  },
  {
   "cell_type": "code",
   "execution_count": 38,
   "metadata": {
    "ExecuteTime": {
     "end_time": "2018-10-26T21:17:26.479172Z",
     "start_time": "2018-10-26T21:17:26.426029Z"
    },
    "scrolled": true
   },
   "outputs": [],
   "source": [
    "# Generate sold ratio for categorical variable BrokerName_ratio\n",
    "\n",
    "test['BrokerName_ratio'] = proportion(test.BrokerName)\n",
    "train['BrokerName_ratio'] = proportion(train.BrokerName)\n",
    "\n",
    "#test['BrokerName_ratio'] = np.cbrt(proportion(test.BrokerName))\n",
    "#train['BrokerName_ratio'] = np.cbrt(proportion(train.BrokerName))"
   ]
  },
  {
   "cell_type": "code",
   "execution_count": 39,
   "metadata": {
    "ExecuteTime": {
     "end_time": "2018-10-26T21:17:26.487194Z",
     "start_time": "2018-10-26T21:17:26.481177Z"
    }
   },
   "outputs": [
    {
     "data": {
      "text/plain": [
       "11408"
      ]
     },
     "execution_count": 39,
     "metadata": {},
     "output_type": "execute_result"
    }
   ],
   "source": [
    "len(train.BrokerName_ratio)"
   ]
  },
  {
   "cell_type": "code",
   "execution_count": 40,
   "metadata": {
    "ExecuteTime": {
     "end_time": "2018-10-26T21:17:26.508254Z",
     "start_time": "2018-10-26T21:17:26.490203Z"
    }
   },
   "outputs": [
    {
     "data": {
      "text/plain": [
       "4289"
      ]
     },
     "execution_count": 40,
     "metadata": {},
     "output_type": "execute_result"
    }
   ],
   "source": [
    "sum(train.BrokerName_ratio == 0)"
   ]
  },
  {
   "cell_type": "code",
   "execution_count": 41,
   "metadata": {
    "ExecuteTime": {
     "end_time": "2018-10-26T21:17:26.557381Z",
     "start_time": "2018-10-26T21:17:26.511258Z"
    }
   },
   "outputs": [],
   "source": [
    "# Generate sold ratio for categorical variable Underwriter_Name\n",
    "\n",
    "test['Underwriter_Name_ratio'] = proportion(test.Underwriter_Name)\n",
    "train['Underwriter_Name_ratio'] = proportion(train.Underwriter_Name)"
   ]
  },
  {
   "cell_type": "code",
   "execution_count": 42,
   "metadata": {
    "ExecuteTime": {
     "end_time": "2018-10-26T21:17:26.592476Z",
     "start_time": "2018-10-26T21:17:26.559387Z"
    }
   },
   "outputs": [
    {
     "data": {
      "text/html": [
       "<div>\n",
       "<style scoped>\n",
       "    .dataframe tbody tr th:only-of-type {\n",
       "        vertical-align: middle;\n",
       "    }\n",
       "\n",
       "    .dataframe tbody tr th {\n",
       "        vertical-align: top;\n",
       "    }\n",
       "\n",
       "    .dataframe thead th {\n",
       "        text-align: right;\n",
       "    }\n",
       "</style>\n",
       "<table border=\"1\" class=\"dataframe\">\n",
       "  <thead>\n",
       "    <tr style=\"text-align: right;\">\n",
       "      <th></th>\n",
       "      <th>RSE_Name</th>\n",
       "      <th>RSS_Name</th>\n",
       "      <th>Underwriter_Name</th>\n",
       "      <th>BrokerName</th>\n",
       "      <th>StateName</th>\n",
       "      <th>MaxLives</th>\n",
       "      <th>Life</th>\n",
       "      <th>LTD</th>\n",
       "      <th>STD</th>\n",
       "      <th>QuotedAnnualPremium</th>\n",
       "      <th>...</th>\n",
       "      <th>Segment_SM</th>\n",
       "      <th>Sold</th>\n",
       "      <th>QTI_binned</th>\n",
       "      <th>MaxLives_binned</th>\n",
       "      <th>QuotedAnnualPremium_binned</th>\n",
       "      <th>QuotedAnnualPremium_log</th>\n",
       "      <th>RSE_Name_ratio</th>\n",
       "      <th>RSS_Name_ratio</th>\n",
       "      <th>BrokerName_ratio</th>\n",
       "      <th>Underwriter_Name_ratio</th>\n",
       "    </tr>\n",
       "  </thead>\n",
       "  <tbody>\n",
       "    <tr>\n",
       "      <th>0</th>\n",
       "      <td>Mark Crisler</td>\n",
       "      <td>Christina Herrin</td>\n",
       "      <td>Peter Klepadlo</td>\n",
       "      <td>HUB International</td>\n",
       "      <td>WA</td>\n",
       "      <td>200.0</td>\n",
       "      <td>1</td>\n",
       "      <td>0</td>\n",
       "      <td>0</td>\n",
       "      <td>6.888660e+03</td>\n",
       "      <td>...</td>\n",
       "      <td>1</td>\n",
       "      <td>0</td>\n",
       "      <td>2</td>\n",
       "      <td>1</td>\n",
       "      <td>0</td>\n",
       "      <td>8.837632</td>\n",
       "      <td>0.136318</td>\n",
       "      <td>0.095290</td>\n",
       "      <td>0.099099</td>\n",
       "      <td>0.170732</td>\n",
       "    </tr>\n",
       "    <tr>\n",
       "      <th>1</th>\n",
       "      <td>Mark Crisler</td>\n",
       "      <td>Morgan Franovich</td>\n",
       "      <td>0</td>\n",
       "      <td>Alligence</td>\n",
       "      <td>MT</td>\n",
       "      <td>196.0</td>\n",
       "      <td>0</td>\n",
       "      <td>1</td>\n",
       "      <td>0</td>\n",
       "      <td>3.410400e+04</td>\n",
       "      <td>...</td>\n",
       "      <td>1</td>\n",
       "      <td>0</td>\n",
       "      <td>1</td>\n",
       "      <td>1</td>\n",
       "      <td>1</td>\n",
       "      <td>10.437170</td>\n",
       "      <td>0.136318</td>\n",
       "      <td>0.151448</td>\n",
       "      <td>0.000000</td>\n",
       "      <td>0.025114</td>\n",
       "    </tr>\n",
       "    <tr>\n",
       "      <th>2</th>\n",
       "      <td>Paul Monica</td>\n",
       "      <td>Dawn Cornelius</td>\n",
       "      <td>Ben Shehu</td>\n",
       "      <td>Holmes Murphy</td>\n",
       "      <td>TX</td>\n",
       "      <td>2361.0</td>\n",
       "      <td>1</td>\n",
       "      <td>1</td>\n",
       "      <td>1</td>\n",
       "      <td>1.969744e+06</td>\n",
       "      <td>...</td>\n",
       "      <td>0</td>\n",
       "      <td>0</td>\n",
       "      <td>3</td>\n",
       "      <td>2</td>\n",
       "      <td>4</td>\n",
       "      <td>14.493414</td>\n",
       "      <td>0.087500</td>\n",
       "      <td>0.080055</td>\n",
       "      <td>0.022727</td>\n",
       "      <td>0.127273</td>\n",
       "    </tr>\n",
       "    <tr>\n",
       "      <th>3</th>\n",
       "      <td>Julie Bosse</td>\n",
       "      <td>Christine Bozza</td>\n",
       "      <td>Keith Daigle</td>\n",
       "      <td>Gottlieb Associates</td>\n",
       "      <td>MA</td>\n",
       "      <td>35.0</td>\n",
       "      <td>0</td>\n",
       "      <td>1</td>\n",
       "      <td>1</td>\n",
       "      <td>1.648664e+04</td>\n",
       "      <td>...</td>\n",
       "      <td>1</td>\n",
       "      <td>1</td>\n",
       "      <td>1</td>\n",
       "      <td>0</td>\n",
       "      <td>0</td>\n",
       "      <td>9.710305</td>\n",
       "      <td>0.080645</td>\n",
       "      <td>0.084227</td>\n",
       "      <td>0.111111</td>\n",
       "      <td>0.090452</td>\n",
       "    </tr>\n",
       "    <tr>\n",
       "      <th>4</th>\n",
       "      <td>Johnathan Gingras</td>\n",
       "      <td>Sarah Finch</td>\n",
       "      <td>Peter Ouellette</td>\n",
       "      <td>Charon</td>\n",
       "      <td>NY</td>\n",
       "      <td>314.0</td>\n",
       "      <td>0</td>\n",
       "      <td>0</td>\n",
       "      <td>1</td>\n",
       "      <td>2.837304e+04</td>\n",
       "      <td>...</td>\n",
       "      <td>1</td>\n",
       "      <td>1</td>\n",
       "      <td>0</td>\n",
       "      <td>1</td>\n",
       "      <td>1</td>\n",
       "      <td>10.253195</td>\n",
       "      <td>0.066667</td>\n",
       "      <td>1.000000</td>\n",
       "      <td>0.666667</td>\n",
       "      <td>0.138702</td>\n",
       "    </tr>\n",
       "  </tbody>\n",
       "</table>\n",
       "<p>5 rows × 187 columns</p>\n",
       "</div>"
      ],
      "text/plain": [
       "            RSE_Name          RSS_Name Underwriter_Name           BrokerName  \\\n",
       "0       Mark Crisler  Christina Herrin   Peter Klepadlo    HUB International   \n",
       "1       Mark Crisler  Morgan Franovich                0            Alligence   \n",
       "2        Paul Monica    Dawn Cornelius        Ben Shehu        Holmes Murphy   \n",
       "3        Julie Bosse   Christine Bozza     Keith Daigle  Gottlieb Associates   \n",
       "4  Johnathan Gingras       Sarah Finch  Peter Ouellette               Charon   \n",
       "\n",
       "  StateName  MaxLives  Life  LTD  STD  QuotedAnnualPremium  \\\n",
       "0        WA     200.0     1    0    0         6.888660e+03   \n",
       "1        MT     196.0     0    1    0         3.410400e+04   \n",
       "2        TX    2361.0     1    1    1         1.969744e+06   \n",
       "3        MA      35.0     0    1    1         1.648664e+04   \n",
       "4        NY     314.0     0    0    1         2.837304e+04   \n",
       "\n",
       "            ...            Segment_SM  Sold  QTI_binned  MaxLives_binned  \\\n",
       "0           ...                     1     0           2                1   \n",
       "1           ...                     1     0           1                1   \n",
       "2           ...                     0     0           3                2   \n",
       "3           ...                     1     1           1                0   \n",
       "4           ...                     1     1           0                1   \n",
       "\n",
       "   QuotedAnnualPremium_binned  QuotedAnnualPremium_log  RSE_Name_ratio  \\\n",
       "0                           0                 8.837632        0.136318   \n",
       "1                           1                10.437170        0.136318   \n",
       "2                           4                14.493414        0.087500   \n",
       "3                           0                 9.710305        0.080645   \n",
       "4                           1                10.253195        0.066667   \n",
       "\n",
       "   RSS_Name_ratio  BrokerName_ratio  Underwriter_Name_ratio  \n",
       "0        0.095290          0.099099                0.170732  \n",
       "1        0.151448          0.000000                0.025114  \n",
       "2        0.080055          0.022727                0.127273  \n",
       "3        0.084227          0.111111                0.090452  \n",
       "4        1.000000          0.666667                0.138702  \n",
       "\n",
       "[5 rows x 187 columns]"
      ]
     },
     "execution_count": 42,
     "metadata": {},
     "output_type": "execute_result"
    }
   ],
   "source": [
    "train.head()"
   ]
  },
  {
   "cell_type": "code",
   "execution_count": 43,
   "metadata": {
    "ExecuteTime": {
     "end_time": "2018-10-26T21:17:26.631581Z",
     "start_time": "2018-10-26T21:17:26.597491Z"
    },
    "scrolled": true
   },
   "outputs": [
    {
     "data": {
      "text/html": [
       "<div>\n",
       "<style scoped>\n",
       "    .dataframe tbody tr th:only-of-type {\n",
       "        vertical-align: middle;\n",
       "    }\n",
       "\n",
       "    .dataframe tbody tr th {\n",
       "        vertical-align: top;\n",
       "    }\n",
       "\n",
       "    .dataframe thead th {\n",
       "        text-align: right;\n",
       "    }\n",
       "</style>\n",
       "<table border=\"1\" class=\"dataframe\">\n",
       "  <thead>\n",
       "    <tr style=\"text-align: right;\">\n",
       "      <th></th>\n",
       "      <th>RSE_Name</th>\n",
       "      <th>RSS_Name</th>\n",
       "      <th>Underwriter_Name</th>\n",
       "      <th>BrokerName</th>\n",
       "      <th>StateName</th>\n",
       "      <th>MaxLives</th>\n",
       "      <th>Life</th>\n",
       "      <th>LTD</th>\n",
       "      <th>STD</th>\n",
       "      <th>QuotedAnnualPremium</th>\n",
       "      <th>...</th>\n",
       "      <th>Segment_SM</th>\n",
       "      <th>Sold</th>\n",
       "      <th>QTI_binned</th>\n",
       "      <th>MaxLives_binned</th>\n",
       "      <th>QuotedAnnualPremium_binned</th>\n",
       "      <th>QuotedAnnualPremium_log</th>\n",
       "      <th>RSE_Name_ratio</th>\n",
       "      <th>RSS_Name_ratio</th>\n",
       "      <th>BrokerName_ratio</th>\n",
       "      <th>Underwriter_Name_ratio</th>\n",
       "    </tr>\n",
       "  </thead>\n",
       "  <tbody>\n",
       "    <tr>\n",
       "      <th>0</th>\n",
       "      <td>Steve Mezei</td>\n",
       "      <td>Lauren Bishop</td>\n",
       "      <td>Dan Dalton</td>\n",
       "      <td>USI Insurance Services</td>\n",
       "      <td>NC</td>\n",
       "      <td>2241.0</td>\n",
       "      <td>1</td>\n",
       "      <td>1</td>\n",
       "      <td>1</td>\n",
       "      <td>809758.6400</td>\n",
       "      <td>...</td>\n",
       "      <td>0</td>\n",
       "      <td>0</td>\n",
       "      <td>3.0</td>\n",
       "      <td>2.0</td>\n",
       "      <td>4</td>\n",
       "      <td>13.604492</td>\n",
       "      <td>0.092593</td>\n",
       "      <td>0.051325</td>\n",
       "      <td>0.076923</td>\n",
       "      <td>0.192308</td>\n",
       "    </tr>\n",
       "    <tr>\n",
       "      <th>1</th>\n",
       "      <td>Chris Koettker</td>\n",
       "      <td>Christina Herrin</td>\n",
       "      <td>David Spak</td>\n",
       "      <td>Holmes Murphy &amp; Associates</td>\n",
       "      <td>TX</td>\n",
       "      <td>941.0</td>\n",
       "      <td>1</td>\n",
       "      <td>1</td>\n",
       "      <td>1</td>\n",
       "      <td>683716.0560</td>\n",
       "      <td>...</td>\n",
       "      <td>0</td>\n",
       "      <td>0</td>\n",
       "      <td>2.0</td>\n",
       "      <td>2.0</td>\n",
       "      <td>4</td>\n",
       "      <td>13.435298</td>\n",
       "      <td>0.137931</td>\n",
       "      <td>0.095290</td>\n",
       "      <td>0.000000</td>\n",
       "      <td>0.192771</td>\n",
       "    </tr>\n",
       "    <tr>\n",
       "      <th>2</th>\n",
       "      <td>Chris Koettker</td>\n",
       "      <td>Beth Dykeman</td>\n",
       "      <td>Beth Dykeman</td>\n",
       "      <td>Ahart Benefit Insurance</td>\n",
       "      <td>CA</td>\n",
       "      <td>40.0</td>\n",
       "      <td>1</td>\n",
       "      <td>0</td>\n",
       "      <td>0</td>\n",
       "      <td>2880.0000</td>\n",
       "      <td>...</td>\n",
       "      <td>1</td>\n",
       "      <td>0</td>\n",
       "      <td>0.0</td>\n",
       "      <td>0.0</td>\n",
       "      <td>0</td>\n",
       "      <td>7.965546</td>\n",
       "      <td>0.137931</td>\n",
       "      <td>0.195402</td>\n",
       "      <td>0.000000</td>\n",
       "      <td>0.186916</td>\n",
       "    </tr>\n",
       "    <tr>\n",
       "      <th>3</th>\n",
       "      <td>Randy Alsworth</td>\n",
       "      <td>Ross Meister</td>\n",
       "      <td>Matthew Doucette</td>\n",
       "      <td>HM Benefits</td>\n",
       "      <td>MO</td>\n",
       "      <td>106.0</td>\n",
       "      <td>1</td>\n",
       "      <td>0</td>\n",
       "      <td>0</td>\n",
       "      <td>27307.2000</td>\n",
       "      <td>...</td>\n",
       "      <td>1</td>\n",
       "      <td>0</td>\n",
       "      <td>1.0</td>\n",
       "      <td>0.0</td>\n",
       "      <td>1</td>\n",
       "      <td>10.214906</td>\n",
       "      <td>0.041667</td>\n",
       "      <td>0.110345</td>\n",
       "      <td>0.000000</td>\n",
       "      <td>0.137427</td>\n",
       "    </tr>\n",
       "    <tr>\n",
       "      <th>4</th>\n",
       "      <td>Stephen Bronder</td>\n",
       "      <td>Mary Stasik</td>\n",
       "      <td>Kyle Marinko</td>\n",
       "      <td>HDH Group</td>\n",
       "      <td>PA</td>\n",
       "      <td>686.0</td>\n",
       "      <td>1</td>\n",
       "      <td>1</td>\n",
       "      <td>0</td>\n",
       "      <td>270397.7316</td>\n",
       "      <td>...</td>\n",
       "      <td>0</td>\n",
       "      <td>0</td>\n",
       "      <td>3.0</td>\n",
       "      <td>2.0</td>\n",
       "      <td>3</td>\n",
       "      <td>12.507649</td>\n",
       "      <td>0.112195</td>\n",
       "      <td>0.093812</td>\n",
       "      <td>1.000000</td>\n",
       "      <td>0.041176</td>\n",
       "    </tr>\n",
       "  </tbody>\n",
       "</table>\n",
       "<p>5 rows × 187 columns</p>\n",
       "</div>"
      ],
      "text/plain": [
       "          RSE_Name          RSS_Name  Underwriter_Name  \\\n",
       "0      Steve Mezei     Lauren Bishop        Dan Dalton   \n",
       "1   Chris Koettker  Christina Herrin        David Spak   \n",
       "2   Chris Koettker      Beth Dykeman      Beth Dykeman   \n",
       "3   Randy Alsworth      Ross Meister  Matthew Doucette   \n",
       "4  Stephen Bronder       Mary Stasik      Kyle Marinko   \n",
       "\n",
       "                   BrokerName StateName  MaxLives  Life  LTD  STD  \\\n",
       "0      USI Insurance Services        NC    2241.0     1    1    1   \n",
       "1  Holmes Murphy & Associates        TX     941.0     1    1    1   \n",
       "2    Ahart Benefit Insurance         CA      40.0     1    0    0   \n",
       "3                 HM Benefits        MO     106.0     1    0    0   \n",
       "4                   HDH Group        PA     686.0     1    1    0   \n",
       "\n",
       "   QuotedAnnualPremium           ...            Segment_SM  Sold  QTI_binned  \\\n",
       "0          809758.6400           ...                     0     0         3.0   \n",
       "1          683716.0560           ...                     0     0         2.0   \n",
       "2            2880.0000           ...                     1     0         0.0   \n",
       "3           27307.2000           ...                     1     0         1.0   \n",
       "4          270397.7316           ...                     0     0         3.0   \n",
       "\n",
       "   MaxLives_binned  QuotedAnnualPremium_binned  QuotedAnnualPremium_log  \\\n",
       "0              2.0                           4                13.604492   \n",
       "1              2.0                           4                13.435298   \n",
       "2              0.0                           0                 7.965546   \n",
       "3              0.0                           1                10.214906   \n",
       "4              2.0                           3                12.507649   \n",
       "\n",
       "   RSE_Name_ratio  RSS_Name_ratio  BrokerName_ratio  Underwriter_Name_ratio  \n",
       "0        0.092593        0.051325          0.076923                0.192308  \n",
       "1        0.137931        0.095290          0.000000                0.192771  \n",
       "2        0.137931        0.195402          0.000000                0.186916  \n",
       "3        0.041667        0.110345          0.000000                0.137427  \n",
       "4        0.112195        0.093812          1.000000                0.041176  \n",
       "\n",
       "[5 rows x 187 columns]"
      ]
     },
     "execution_count": 43,
     "metadata": {},
     "output_type": "execute_result"
    }
   ],
   "source": [
    "test.head()"
   ]
  },
  {
   "cell_type": "code",
   "execution_count": 44,
   "metadata": {
    "ExecuteTime": {
     "end_time": "2018-10-26T21:17:26.763938Z",
     "start_time": "2018-10-26T21:17:26.634593Z"
    },
    "scrolled": true
   },
   "outputs": [
    {
     "data": {
      "text/plain": [
       "<matplotlib.axes._subplots.AxesSubplot at 0x18962dc2be0>"
      ]
     },
     "execution_count": 44,
     "metadata": {},
     "output_type": "execute_result"
    },
    {
     "data": {
      "image/png": "[encoded data removed]",
      "text/plain": [
       "<Figure size 432x288 with 1 Axes>"
      ]
     },
     "metadata": {
      "needs_background": "light"
     },
     "output_type": "display_data"
    }
   ],
   "source": [
    "pd.Series(df_original.Sold.groupby(df_original.Segment).sum() / df_original.Sold.groupby(df_original.Segment).count()).plot(kind='bar')"
   ]
  },
  {
   "cell_type": "code",
   "execution_count": 45,
   "metadata": {
    "ExecuteTime": {
     "end_time": "2018-10-26T21:17:26.783992Z",
     "start_time": "2018-10-26T21:17:26.765943Z"
    }
   },
   "outputs": [],
   "source": [
    "features=[\n",
    " 'RSE_Name_ratio',\n",
    " 'BrokerName_ratio',\n",
    " 'Underwriter_Name_ratio',\n",
    " 'Life',\n",
    " 'LTD',\n",
    " 'STD',\n",
    " #'QuotedAnnualPremium_log',\n",
    " 'QuotedAnnualPremium_binned',\n",
    " 'QTI',\n",
    " 'Sold'\n",
    "]\n",
    "\n",
    "# features=[\n",
    "#  'RSE_Name_ratio',\n",
    "#  'RSS_Name_ratio',\n",
    "#  'Underwriter_Name_ratio',\n",
    "#  'BrokerName_ratio',\n",
    "#  'MaxLives_binned',\n",
    "#  'Life',\n",
    "#  'LTD',\n",
    "#  'STD',\n",
    "#  'QuotedAnnualPremium_binned',\n",
    "#   'west',\n",
    "#  'southwest',\n",
    "#  'midwest',\n",
    "#  'northeast',\n",
    "#  'southeast',\n",
    "#  'Segment_LM',\n",
    "#  'Segment_MM',\n",
    "#  'Segment_SM',\n",
    "#  'QTI',\n",
    "#  'Sold'\n",
    "# ]\n",
    "csv_train = train[features]\n",
    "csv_test = test[features]"
   ]
  },
  {
   "cell_type": "code",
   "execution_count": 46,
   "metadata": {
    "ExecuteTime": {
     "end_time": "2018-10-26T21:17:26.825102Z",
     "start_time": "2018-10-26T21:17:26.785998Z"
    }
   },
   "outputs": [],
   "source": [
    "csv_test = test[features]"
   ]
  },
  {
   "cell_type": "code",
   "execution_count": 47,
   "metadata": {
    "ExecuteTime": {
     "end_time": "2018-10-26T21:17:26.849169Z",
     "start_time": "2018-10-26T21:17:26.828112Z"
    }
   },
   "outputs": [
    {
     "data": {
      "text/plain": [
       "RSE_Name_ratio                False\n",
       "BrokerName_ratio              False\n",
       "Underwriter_Name_ratio        False\n",
       "Life                          False\n",
       "LTD                           False\n",
       "STD                           False\n",
       "QuotedAnnualPremium_binned    False\n",
       "QTI                           False\n",
       "Sold                          False\n",
       "dtype: bool"
      ]
     },
     "execution_count": 47,
     "metadata": {},
     "output_type": "execute_result"
    }
   ],
   "source": [
    "csv_train.isnull().any()"
   ]
  },
  {
   "cell_type": "code",
   "execution_count": 48,
   "metadata": {
    "ExecuteTime": {
     "end_time": "2018-10-26T21:17:26.871226Z",
     "start_time": "2018-10-26T21:17:26.853178Z"
    }
   },
   "outputs": [
    {
     "data": {
      "text/plain": [
       "RSE_Name_ratio                False\n",
       "BrokerName_ratio              False\n",
       "Underwriter_Name_ratio        False\n",
       "Life                          False\n",
       "LTD                           False\n",
       "STD                           False\n",
       "QuotedAnnualPremium_binned    False\n",
       "QTI                           False\n",
       "Sold                          False\n",
       "dtype: bool"
      ]
     },
     "execution_count": 48,
     "metadata": {},
     "output_type": "execute_result"
    }
   ],
   "source": [
    "csv_test.isnull().any()"
   ]
  },
  {
   "cell_type": "markdown",
   "metadata": {
    "ExecuteTime": {
     "end_time": "2018-10-26T21:17:26.914343Z",
     "start_time": "2018-10-26T21:17:26.873233Z"
    }
   },
   "source": [
    "# Clean up MaxLives that were assigned NaN during binning\n",
    "\n",
    "csv_test[csv_test.MaxLives_binned.isnull()]"
   ]
  },
  {
   "cell_type": "markdown",
   "metadata": {
    "ExecuteTime": {
     "end_time": "2018-10-26T21:17:26.930386Z",
     "start_time": "2018-10-26T21:17:26.916350Z"
    }
   },
   "source": [
    "test[test.MaxLives_binned.isnull()].MaxLives"
   ]
  },
  {
   "cell_type": "markdown",
   "metadata": {
    "ExecuteTime": {
     "end_time": "2018-10-26T21:17:27.094829Z",
     "start_time": "2018-10-26T21:17:26.932391Z"
    }
   },
   "source": [
    "csv_test.loc[610, 'MaxLives_binned'] = 0\n",
    "csv_test.loc[2143, 'MaxLives_binned'] = 0"
   ]
  },
  {
   "cell_type": "markdown",
   "metadata": {
    "ExecuteTime": {
     "end_time": "2018-10-26T21:17:27.116891Z",
     "start_time": "2018-10-26T21:17:27.098839Z"
    }
   },
   "source": [
    "csv_test[csv_test.MaxLives_binned.isnull()]"
   ]
  },
  {
   "cell_type": "markdown",
   "metadata": {
    "ExecuteTime": {
     "end_time": "2018-10-26T21:17:27.138948Z",
     "start_time": "2018-10-26T21:17:27.119896Z"
    }
   },
   "source": [
    "csv_test.MaxLives_binned.value_counts()"
   ]
  },
  {
   "cell_type": "markdown",
   "metadata": {
    "ExecuteTime": {
     "end_time": "2018-10-19T20:59:13.728368Z",
     "start_time": "2018-10-19T20:59:13.675228Z"
    }
   },
   "source": [
    "#### csv_test[csv_test.QTI_binned.isnull()]"
   ]
  },
  {
   "cell_type": "markdown",
   "metadata": {
    "ExecuteTime": {
     "end_time": "2018-10-19T20:59:13.751934Z",
     "start_time": "2018-10-19T20:59:13.731378Z"
    }
   },
   "source": [
    "#### test[test.QTI_binned.isnull()].QTI"
   ]
  },
  {
   "cell_type": "markdown",
   "metadata": {
    "ExecuteTime": {
     "end_time": "2018-10-19T20:59:13.917377Z",
     "start_time": "2018-10-19T20:59:13.755441Z"
    }
   },
   "source": [
    "#### csv_test.loc[2409, 'QTI_binned'] = 0"
   ]
  },
  {
   "cell_type": "markdown",
   "metadata": {
    "ExecuteTime": {
     "end_time": "2018-10-19T20:59:13.982552Z",
     "start_time": "2018-10-19T20:59:13.920889Z"
    }
   },
   "source": [
    "#### csv_test[csv_test.QTI_binned.isnull()]"
   ]
  },
  {
   "cell_type": "markdown",
   "metadata": {
    "ExecuteTime": {
     "end_time": "2018-10-19T20:59:14.031685Z",
     "start_time": "2018-10-19T20:59:13.988067Z"
    }
   },
   "source": [
    "#### csv_test.QTI_binned.value_counts()"
   ]
  },
  {
   "cell_type": "code",
   "execution_count": 49,
   "metadata": {
    "ExecuteTime": {
     "end_time": "2018-10-26T21:17:27.234204Z",
     "start_time": "2018-10-26T21:17:27.141956Z"
    }
   },
   "outputs": [
    {
     "name": "stderr",
     "output_type": "stream",
     "text": [
      "C:\\Users\\katovc\\AppData\\Local\\Continuum\\anaconda3\\envs\\deeplearning\\lib\\site-packages\\pandas\\core\\indexing.py:543: SettingWithCopyWarning: \n",
      "A value is trying to be set on a copy of a slice from a DataFrame.\n",
      "Try using .loc[row_indexer,col_indexer] = value instead\n",
      "\n",
      "See the caveats in the documentation: http://pandas.pydata.org/pandas-docs/stable/indexing.html#indexing-view-versus-copy\n",
      "  self.obj[item] = s\n"
     ]
    }
   ],
   "source": [
    "# Cap QTI at 2.00\n",
    "\n",
    "csv_train.iloc[csv_train.loc[csv_train.QTI > 2].index,-2] = 2"
   ]
  },
  {
   "cell_type": "code",
   "execution_count": 50,
   "metadata": {
    "ExecuteTime": {
     "end_time": "2018-10-26T21:17:27.324445Z",
     "start_time": "2018-10-26T21:17:27.237213Z"
    }
   },
   "outputs": [],
   "source": [
    "csv_test.iloc[csv_test.loc[csv_test.QTI > 2].index,-2] = 2"
   ]
  },
  {
   "cell_type": "code",
   "execution_count": 51,
   "metadata": {
    "ExecuteTime": {
     "end_time": "2018-10-26T21:17:27.429729Z",
     "start_time": "2018-10-26T21:17:27.328457Z"
    }
   },
   "outputs": [
    {
     "name": "stderr",
     "output_type": "stream",
     "text": [
      "C:\\Users\\katovc\\AppData\\Local\\Continuum\\anaconda3\\envs\\deeplearning\\lib\\site-packages\\pandas\\core\\generic.py:4405: SettingWithCopyWarning: \n",
      "A value is trying to be set on a copy of a slice from a DataFrame.\n",
      "Try using .loc[row_indexer,col_indexer] = value instead\n",
      "\n",
      "See the caveats in the documentation: http://pandas.pydata.org/pandas-docs/stable/indexing.html#indexing-view-versus-copy\n",
      "  self[name] = value\n"
     ]
    }
   ],
   "source": [
    "# Then normalize between 0 and 1\n",
    "\n",
    "#katovc: why dividing by 2? need to normalize\n",
    "\n",
    "csv_train.QTI = csv_train.QTI / 2"
   ]
  },
  {
   "cell_type": "code",
   "execution_count": 52,
   "metadata": {
    "ExecuteTime": {
     "end_time": "2018-10-26T21:17:27.512954Z",
     "start_time": "2018-10-26T21:17:27.432741Z"
    }
   },
   "outputs": [],
   "source": [
    "csv_test.QTI = csv_test.QTI / 2"
   ]
  },
  {
   "cell_type": "markdown",
   "metadata": {},
   "source": [
    "csv_train.QuotedAnnualPremium_binned/4"
   ]
  },
  {
   "cell_type": "code",
   "execution_count": 53,
   "metadata": {
    "ExecuteTime": {
     "end_time": "2018-10-26T21:17:27.676393Z",
     "start_time": "2018-10-26T21:17:27.515963Z"
    }
   },
   "outputs": [],
   "source": [
    "# Also normalize QuotedAnnualPremium\n",
    "\n",
    "csv_train.QuotedAnnualPremium_binned = csv_train.QuotedAnnualPremium_binned / 4\n",
    "csv_test.QuotedAnnualPremium_binned = csv_test.QuotedAnnualPremium_binned / 4"
   ]
  },
  {
   "cell_type": "code",
   "execution_count": 54,
   "metadata": {
    "ExecuteTime": {
     "end_time": "2018-10-26T21:17:27.684415Z",
     "start_time": "2018-10-26T21:17:27.679403Z"
    }
   },
   "outputs": [
    {
     "data": {
      "text/plain": [
       "0.00445"
      ]
     },
     "execution_count": 54,
     "metadata": {},
     "output_type": "execute_result"
    }
   ],
   "source": [
    "csv_test.QTI.min()"
   ]
  },
  {
   "cell_type": "code",
   "execution_count": 55,
   "metadata": {
    "ExecuteTime": {
     "end_time": "2018-10-26T21:17:27.715500Z",
     "start_time": "2018-10-26T21:17:27.687424Z"
    }
   },
   "outputs": [
    {
     "data": {
      "text/plain": [
       "0.00995"
      ]
     },
     "execution_count": 55,
     "metadata": {},
     "output_type": "execute_result"
    }
   ],
   "source": [
    "csv_train.QTI.min()"
   ]
  },
  {
   "cell_type": "markdown",
   "metadata": {
    "ExecuteTime": {
     "end_time": "2018-10-26T21:17:27.880944Z",
     "start_time": "2018-10-26T21:17:27.717508Z"
    }
   },
   "source": [
    "# Also normalize MaxLives\n",
    "\n",
    "csv_train.MaxLives_binned = csv_train.MaxLives_binned / 4\n",
    "csv_test.MaxLives_binned = csv_test.MaxLives_binned / 4"
   ]
  },
  {
   "cell_type": "markdown",
   "metadata": {},
   "source": [
    "## 3) Machine Learning"
   ]
  },
  {
   "cell_type": "code",
   "execution_count": 56,
   "metadata": {
    "ExecuteTime": {
     "end_time": "2018-10-26T21:17:27.891977Z",
     "start_time": "2018-10-26T21:17:27.883954Z"
    }
   },
   "outputs": [],
   "source": [
    "# Define a function that runs the machine learning algorithm:\n",
    "\n",
    "def run_clf(classifier, classifier_name, Xtrain, ytrain, Xtest, ytest):\n",
    "\n",
    "    clf = classifier\n",
    "    clf.fit(Xtrain.values, ytrain.values)\n",
    "    ypred = clf.predict(Xtest.values)\n",
    "    accuracy = accuracy_score(ytest.values,ypred)\n",
    "    precision, recall, f1 = metrics(ytest.values, ypred)\n",
    "\n",
    "\n",
    "    kf = KFold(n_splits=5)\n",
    "    scores = cross_val_score(classifier, Xtrain.values, ytrain.values, cv=kf)\n",
    "    kf_score = np.mean(scores)\n",
    "    \n",
    "    print(\"Baseline Accuracy: %.4f\" % accuracy_score(ytest.values, ytest.values * [0]))\n",
    "    print(\"=======================================\")\n",
    "    print(classifier_name + \" Training Accuracy: %.4f\" % kf_score)\n",
    "    print(classifier_name + \" Test Accuracy: %.4f\" % accuracy_score(ytest.values, ypred))\n",
    "    print(classifier_name + \" Precision: %.4f\" % precision)\n",
    "    print(classifier_name + \" Recall: %.4f\" % recall)\n",
    "    print(classifier_name + \" F1: %.4f\" % f1)\n",
    "    \n",
    "    print_cm(ytest, ypred)\n",
    "    \n",
    "    plot_ROC(classifier, classifier_name, Xtest, ytest)\n",
    "    \n",
    "    return ypred\n",
    "    \n",
    "    #plot_probs(classifier, classifier_name, Xtest)\n",
    "    "
   ]
  },
  {
   "cell_type": "code",
   "execution_count": 57,
   "metadata": {
    "ExecuteTime": {
     "end_time": "2018-10-26T21:17:27.914034Z",
     "start_time": "2018-10-26T21:17:27.895985Z"
    }
   },
   "outputs": [],
   "source": [
    "# Define a function that draws the confusion matrix\n",
    "\n",
    "def print_cm(ytest,ypred):\n",
    "    \n",
    "    plt.figure()\n",
    "    \n",
    "    cm = confusion_matrix(ytest,ypred)\n",
    "\n",
    "    plt.imshow(cm, interpolation='nearest', cmap=plt.cm.Blues)\n",
    "    plt.title('Confusion Matrix')\n",
    "    plt.colorbar()\n",
    "    tick_marks = np.arange(2)\n",
    "    plt.xticks(tick_marks, tick_marks)\n",
    "    plt.yticks(tick_marks, tick_marks)\n",
    "\n",
    "    fmt =  'd'\n",
    "    thresh = cm.max() / 2.\n",
    "    for i, j in itertools.product(range(cm.shape[0]), range(cm.shape[1])):\n",
    "        plt.text(j, i, format(cm[i, j], fmt),\n",
    "                 horizontalalignment=\"center\",\n",
    "                 color=\"white\" if cm[i, j] > thresh else \"black\")\n",
    "\n",
    "    plt.tight_layout()\n",
    "    plt.ylabel('True label')\n",
    "    plt.xlabel('Predicted label')"
   ]
  },
  {
   "cell_type": "code",
   "execution_count": 58,
   "metadata": {
    "ExecuteTime": {
     "end_time": "2018-10-26T21:17:27.936092Z",
     "start_time": "2018-10-26T21:17:27.916038Z"
    }
   },
   "outputs": [],
   "source": [
    "# Define a function that plots the ROC curve\n",
    "\n",
    "def plot_ROC(clf, clf_name, Xtest, ytest):\n",
    "    \n",
    "    probs = clf.predict_proba(Xtest.values)\n",
    "    probs = probs[:,1]\n",
    "    \n",
    "    # calculate AUC\n",
    "    auc = roc_auc_score(ytest.values, probs)\n",
    "    # calculate roc curve\n",
    "    fpr, tpr, thresholds = roc_curve(ytest, probs)\n",
    "    # plot no skill\n",
    "    plt.figure()\n",
    "    plt.plot([0, 1], [0, 1], linestyle='--', label='ROC curve (area = %0.2f)' % auc)\n",
    "    # plot the roc curve for the model\n",
    "    plt.plot(fpr, tpr, marker='.')\n",
    "    # show the plot\n",
    "    plt.title(clf_name)\n",
    "    plt.xlabel(\"False Positive Rate\");\n",
    "    plt.ylabel(\"True Positive Rate\");\n",
    "    plt.legend(loc=\"lower right\")\n",
    "    \n",
    "    plt.figure()\n",
    "    \n",
    "    plt.hist(probs, bins=100);\n",
    "    plt.xlabel('Probability')\n",
    "    plt.ylabel('Count')\n",
    "    plt.title('Probabilities via ' + clf_name + ' Model')"
   ]
  },
  {
   "cell_type": "code",
   "execution_count": 59,
   "metadata": {
    "ExecuteTime": {
     "end_time": "2018-10-26T21:17:27.955144Z",
     "start_time": "2018-10-26T21:17:27.939101Z"
    }
   },
   "outputs": [],
   "source": [
    "# Function to generate statistical metrics for imbalanced data sets\n",
    "\n",
    "def metrics(pred, ytest):\n",
    "    tn, fp, fn, tp = confusion_matrix(ytest, pred).ravel()\n",
    "    precision = tp / (tp + fp)\n",
    "    recall = tp / (tp + fn)\n",
    "    f1 = 0.5*(precision + recall)\n",
    "    return(precision, recall, f1)"
   ]
  },
  {
   "cell_type": "code",
   "execution_count": 60,
   "metadata": {
    "ExecuteTime": {
     "end_time": "2018-10-26T21:17:27.974195Z",
     "start_time": "2018-10-26T21:17:27.958152Z"
    }
   },
   "outputs": [],
   "source": [
    "# Function to print confusion matrix\n",
    "\n",
    "def print_cm(ytest,ypred):\n",
    "    \n",
    "    cm = confusion_matrix(ytest,ypred)\n",
    "\n",
    "    plt.imshow(cm, interpolation='nearest', cmap=plt.cm.Blues)\n",
    "    plt.title('Confusion Matrix')\n",
    "    plt.colorbar()\n",
    "    tick_marks = np.arange(2)\n",
    "    plt.xticks(tick_marks, tick_marks)\n",
    "    plt.yticks(tick_marks, tick_marks)\n",
    "\n",
    "    fmt =  'd'\n",
    "    thresh = cm.max() / 2.\n",
    "    for i, j in itertools.product(range(cm.shape[0]), range(cm.shape[1])):\n",
    "        plt.text(j, i, format(cm[i, j], fmt),\n",
    "                 horizontalalignment=\"center\",\n",
    "                 color=\"white\" if cm[i, j] > thresh else \"black\")\n",
    "\n",
    "    plt.tight_layout()\n",
    "    plt.ylabel('True label')\n",
    "    plt.xlabel('Predicted label')"
   ]
  },
  {
   "cell_type": "code",
   "execution_count": 61,
   "metadata": {
    "ExecuteTime": {
     "end_time": "2018-10-26T21:17:27.997257Z",
     "start_time": "2018-10-26T21:17:27.977203Z"
    }
   },
   "outputs": [],
   "source": [
    "# Function to plot probability distribution\n",
    "\n",
    "def plot_probs(classifier, classifier_name, Xtest):\n",
    "\n",
    "    probs = classifier.predict_proba(Xtest)\n",
    "    probs = probs[:,1]\n",
    "\n",
    "    plt.figure()\n",
    "    \n",
    "    plt.hist(probs, bins=100);\n",
    "    plt.xlabel('Probability')\n",
    "    plt.ylabel('Count')\n",
    "    plt.title('Probabilities via ' + classifier_name + ' Model')"
   ]
  },
  {
   "cell_type": "code",
   "execution_count": 62,
   "metadata": {
    "ExecuteTime": {
     "end_time": "2018-10-26T21:17:28.019316Z",
     "start_time": "2018-10-26T21:17:28.000266Z"
    }
   },
   "outputs": [],
   "source": [
    "# Function to plot feature weights\n",
    "\n",
    "def plot_features(weights, indices):\n",
    "    \n",
    "    plot_coefficients = pd.DataFrame(abs(weights),\n",
    "                                   index = indices).sort_values(by=0, ascending=False)\n",
    "\n",
    "    fig, ax = plt.subplots(figsize=(10, 5))\n",
    "    plot_coefficients.plot(kind='bar', ax=ax)\n",
    "    ax.legend_.remove()"
   ]
  },
  {
   "cell_type": "code",
   "execution_count": 63,
   "metadata": {
    "scrolled": true
   },
   "outputs": [
    {
     "data": {
      "text/plain": [
       "0.0"
      ]
     },
     "execution_count": 63,
     "metadata": {},
     "output_type": "execute_result"
    }
   ],
   "source": [
    "  csv_train.RSE_Name_ratio.min()"
   ]
  },
  {
   "cell_type": "code",
   "execution_count": 64,
   "metadata": {},
   "outputs": [],
   "source": [
    "#Kate's balancing train set\n",
    "from imblearn.under_sampling import RandomUnderSampler\n",
    "\n",
    "nr = RandomUnderSampler(random_state=50)\n",
    "X_train_nr, y_train_nr = nr.fit_sample(csv_train.iloc[:,:-1], csv_train.iloc[:,-1])\n",
    "X_train_nr=pd.DataFrame(X_train_nr, columns=csv_train.iloc[:,:-1].columns)\n",
    "y_train_nr=pd.Series(y_train_nr)\n"
   ]
  },
  {
   "cell_type": "code",
   "execution_count": 65,
   "metadata": {},
   "outputs": [
    {
     "name": "stdout",
     "output_type": "stream",
     "text": [
      "<class 'pandas.core.frame.DataFrame'>\n",
      "RangeIndex: 2146 entries, 0 to 2145\n",
      "Data columns (total 8 columns):\n",
      "RSE_Name_ratio                2146 non-null float64\n",
      "BrokerName_ratio              2146 non-null float64\n",
      "Underwriter_Name_ratio        2146 non-null float64\n",
      "Life                          2146 non-null float64\n",
      "LTD                           2146 non-null float64\n",
      "STD                           2146 non-null float64\n",
      "QuotedAnnualPremium_binned    2146 non-null float64\n",
      "QTI                           2146 non-null float64\n",
      "dtypes: float64(8)\n",
      "memory usage: 134.2 KB\n"
     ]
    }
   ],
   "source": [
    "X_train_nr.info()"
   ]
  },
  {
   "cell_type": "markdown",
   "metadata": {},
   "source": [
    "### 3.1) Logistic Regression"
   ]
  },
  {
   "cell_type": "code",
   "execution_count": 66,
   "metadata": {
    "ExecuteTime": {
     "end_time": "2018-10-26T21:17:28.944138Z",
     "start_time": "2018-10-26T21:17:28.022325Z"
    },
    "scrolled": false
   },
   "outputs": [
    {
     "name": "stdout",
     "output_type": "stream",
     "text": [
      "Baseline Accuracy: 0.9045\n",
      "=======================================\n",
      "Logistic Regression Training Accuracy: 0.6822\n",
      "Logistic Regression Test Accuracy: 0.8251\n",
      "Logistic Regression Precision: 0.3526\n",
      "Logistic Regression Recall: 0.2294\n",
      "Logistic Regression F1: 0.2910\n"
     ]
    },
    {
     "name": "stderr",
     "output_type": "stream",
     "text": [
      "C:\\Users\\katovc\\AppData\\Local\\Continuum\\anaconda3\\envs\\deeplearning\\lib\\site-packages\\sklearn\\linear_model\\logistic.py:432: FutureWarning: Default solver will be changed to 'lbfgs' in 0.22. Specify a solver to silence this warning.\n",
      "  FutureWarning)\n",
      "C:\\Users\\katovc\\AppData\\Local\\Continuum\\anaconda3\\envs\\deeplearning\\lib\\site-packages\\sklearn\\linear_model\\logistic.py:432: FutureWarning: Default solver will be changed to 'lbfgs' in 0.22. Specify a solver to silence this warning.\n",
      "  FutureWarning)\n",
      "C:\\Users\\katovc\\AppData\\Local\\Continuum\\anaconda3\\envs\\deeplearning\\lib\\site-packages\\sklearn\\linear_model\\logistic.py:432: FutureWarning: Default solver will be changed to 'lbfgs' in 0.22. Specify a solver to silence this warning.\n",
      "  FutureWarning)\n",
      "C:\\Users\\katovc\\AppData\\Local\\Continuum\\anaconda3\\envs\\deeplearning\\lib\\site-packages\\sklearn\\linear_model\\logistic.py:432: FutureWarning: Default solver will be changed to 'lbfgs' in 0.22. Specify a solver to silence this warning.\n",
      "  FutureWarning)\n",
      "C:\\Users\\katovc\\AppData\\Local\\Continuum\\anaconda3\\envs\\deeplearning\\lib\\site-packages\\sklearn\\linear_model\\logistic.py:432: FutureWarning: Default solver will be changed to 'lbfgs' in 0.22. Specify a solver to silence this warning.\n",
      "  FutureWarning)\n",
      "C:\\Users\\katovc\\AppData\\Local\\Continuum\\anaconda3\\envs\\deeplearning\\lib\\site-packages\\sklearn\\linear_model\\logistic.py:432: FutureWarning: Default solver will be changed to 'lbfgs' in 0.22. Specify a solver to silence this warning.\n",
      "  FutureWarning)\n"
     ]
    },
    {
     "data": {
      "image/png": "[encoded data removed]",
      "text/plain": [
       "<Figure size 432x288 with 2 Axes>"
      ]
     },
     "metadata": {
      "needs_background": "light"
     },
     "output_type": "display_data"
    },
    {
     "data": {
      "image/png": "[encoded data removed]",
      "text/plain": [
       "<Figure size 432x288 with 1 Axes>"
      ]
     },
     "metadata": {
      "needs_background": "light"
     },
     "output_type": "display_data"
    },
    {
     "data": {
      "image/png": "[encoded data removed]",
      "text/plain": [
       "<Figure size 432x288 with 1 Axes>"
      ]
     },
     "metadata": {
      "needs_background": "light"
     },
     "output_type": "display_data"
    }
   ],
   "source": [
    "# Logistic Regression Model\n",
    "import matplotlib\n",
    "clf_LR = LogisticRegression(random_state=1)\n",
    "\n",
    "ypred_LR = run_clf(clf_LR, 'Logistic Regression', X_train_nr, y_train_nr, csv_test.iloc[:,:-1], csv_test.iloc[:,-1])"
   ]
  },
  {
   "cell_type": "code",
   "execution_count": 67,
   "metadata": {
    "ExecuteTime": {
     "end_time": "2018-10-26T21:17:29.269013Z",
     "start_time": "2018-10-26T21:17:28.946142Z"
    },
    "scrolled": false
   },
   "outputs": [
    {
     "data": {
      "text/plain": [
       "Text(0.5,1,'Logistic Regression')"
      ]
     },
     "execution_count": 67,
     "metadata": {},
     "output_type": "execute_result"
    },
    {
     "data": {
      "image/png": "[encoded data removed]",
      "text/plain": [
       "<Figure size 720x360 with 1 Axes>"
      ]
     },
     "metadata": {
      "needs_background": "light"
     },
     "output_type": "display_data"
    }
   ],
   "source": [
    "# Plot absolute value of coefficients from Logistic Regression model\n",
    "\n",
    "plot_features(clf_LR.coef_[0], csv_train.iloc[:,:-1].columns)\n",
    "plt.ylabel('abs(coefficients)')\n",
    "plt.title('Logistic Regression')"
   ]
  },
  {
   "cell_type": "code",
   "execution_count": 68,
   "metadata": {
    "ExecuteTime": {
     "end_time": "2018-10-26T22:38:40.226785Z",
     "start_time": "2018-10-26T22:38:39.950770Z"
    }
   },
   "outputs": [
    {
     "name": "stdout",
     "output_type": "stream",
     "text": [
      "Logistic Regression Test Accuracy: 0.4972\n",
      "Logistic Regression Precision: 0.8264\n",
      "Logistic Regression Recall: 0.1396\n",
      "Logistic Regression F1: 0.4830\n"
     ]
    },
    {
     "data": {
      "image/png": "[encoded data removed]",
      "text/plain": [
       "<Figure size 432x288 with 2 Axes>"
      ]
     },
     "metadata": {
      "needs_background": "light"
     },
     "output_type": "display_data"
    }
   ],
   "source": [
    "probs_LR = clf_LR.predict_proba(csv_test.iloc[:,:-1])\n",
    "probs_LR = probs_LR[:,1]\n",
    "\n",
    "threshold = 0.25\n",
    "\n",
    "print_cm(csv_test.iloc[:,-1].values, probs_LR > threshold)\n",
    "print(\"Logistic Regression Test Accuracy: %.4f\" % accuracy_score(csv_test.iloc[:,-1].values, probs_LR > threshold))\n",
    "precision_LR, recall_LR, f1_LR = metrics(csv_test.iloc[:,-1].values, probs_LR > threshold)\n",
    "print(\"Logistic Regression Precision: %.4f\" % precision_LR)\n",
    "print(\"Logistic Regression Recall: %.4f\" % recall_LR)\n",
    "print(\"Logistic Regression F1: %.4f\" % f1_LR)"
   ]
  },
  {
   "cell_type": "code",
   "execution_count": 69,
   "metadata": {},
   "outputs": [
    {
     "data": {
      "text/html": [
       "<div>\n",
       "<style scoped>\n",
       "    .dataframe tbody tr th:only-of-type {\n",
       "        vertical-align: middle;\n",
       "    }\n",
       "\n",
       "    .dataframe tbody tr th {\n",
       "        vertical-align: top;\n",
       "    }\n",
       "\n",
       "    .dataframe thead th {\n",
       "        text-align: right;\n",
       "    }\n",
       "</style>\n",
       "<table border=\"1\" class=\"dataframe\">\n",
       "  <thead>\n",
       "    <tr style=\"text-align: right;\">\n",
       "      <th></th>\n",
       "      <th>RSE_Name_ratio</th>\n",
       "      <th>BrokerName_ratio</th>\n",
       "      <th>Underwriter_Name_ratio</th>\n",
       "      <th>Life</th>\n",
       "      <th>LTD</th>\n",
       "      <th>STD</th>\n",
       "      <th>QuotedAnnualPremium_binned</th>\n",
       "      <th>QTI</th>\n",
       "    </tr>\n",
       "  </thead>\n",
       "  <tbody>\n",
       "    <tr>\n",
       "      <th>0</th>\n",
       "      <td>2.312808</td>\n",
       "      <td>8.25731</td>\n",
       "      <td>2.688725</td>\n",
       "      <td>-1.03704</td>\n",
       "      <td>-0.223795</td>\n",
       "      <td>-0.05043</td>\n",
       "      <td>-0.035333</td>\n",
       "      <td>-4.303979</td>\n",
       "    </tr>\n",
       "  </tbody>\n",
       "</table>\n",
       "</div>"
      ],
      "text/plain": [
       "   RSE_Name_ratio  BrokerName_ratio  Underwriter_Name_ratio     Life  \\\n",
       "0        2.312808           8.25731                2.688725 -1.03704   \n",
       "\n",
       "        LTD      STD  QuotedAnnualPremium_binned       QTI  \n",
       "0 -0.223795 -0.05043                   -0.035333 -4.303979  "
      ]
     },
     "execution_count": 69,
     "metadata": {},
     "output_type": "execute_result"
    }
   ],
   "source": [
    "LR_coef=pd.DataFrame(clf_LR.coef_, columns=csv_train.iloc[:,:-1].columns)\n",
    "# print('Coefficients: \\n', clf_LR.coef_)\n",
    "# csv_train.iloc[:,:-1].columns\n",
    "LR_coef"
   ]
  },
  {
   "cell_type": "markdown",
   "metadata": {},
   "source": [
    "### 3.2) Random Forests"
   ]
  },
  {
   "cell_type": "code",
   "execution_count": 70,
   "metadata": {},
   "outputs": [
    {
     "name": "stdout",
     "output_type": "stream",
     "text": [
      "<class 'pandas.core.frame.DataFrame'>\n",
      "Int64Index: 2146 entries, 0 to 2145\n",
      "Data columns (total 8 columns):\n",
      "RSE_Name_ratio                2146 non-null float64\n",
      "Underwriter_Name_ratio        2146 non-null float64\n",
      "BrokerName_ratio              2146 non-null float64\n",
      "Life                          2146 non-null float64\n",
      "LTD                           2146 non-null float64\n",
      "STD                           2146 non-null float64\n",
      "QuotedAnnualPremium_binned    2146 non-null float64\n",
      "QTI                           2146 non-null float64\n",
      "dtypes: float64(8)\n",
      "memory usage: 150.9 KB\n"
     ]
    },
    {
     "data": {
      "text/plain": [
       "RSE_Name_ratio                 218.138998\n",
       "Underwriter_Name_ratio         225.243328\n",
       "BrokerName_ratio               453.842540\n",
       "Life                          1930.000000\n",
       "LTD                           1451.000000\n",
       "STD                           1142.000000\n",
       "QuotedAnnualPremium_binned    1009.250000\n",
       "QTI                           1077.913850\n",
       "dtype: float64"
      ]
     },
     "execution_count": 70,
     "metadata": {},
     "output_type": "execute_result"
    }
   ],
   "source": [
    "Kevin_train=pd.read_csv('Kevin_X_train.csv', index_col = 0)\n",
    "\n",
    "len(Kevin_train)\n",
    "Kevin_train.info()\n",
    "Kevin_train.sum()\n",
    "# diff=Kevin_train.equals(X_train_nr)\n",
    "# diff"
   ]
  },
  {
   "cell_type": "code",
   "execution_count": 71,
   "metadata": {},
   "outputs": [
    {
     "data": {
      "text/plain": [
       "RSE_Name_ratio                 359.517175\n",
       "BrokerName_ratio               296.163203\n",
       "Underwriter_Name_ratio         353.695933\n",
       "Life                          3542.000000\n",
       "LTD                           2781.000000\n",
       "STD                           2180.000000\n",
       "QuotedAnnualPremium_binned    1891.000000\n",
       "QTI                           2001.187600\n",
       "Sold                           363.000000\n",
       "dtype: float64"
      ]
     },
     "execution_count": 71,
     "metadata": {},
     "output_type": "execute_result"
    }
   ],
   "source": [
    "len(csv_test)\n",
    "csv_test.sum()"
   ]
  },
  {
   "cell_type": "code",
   "execution_count": 81,
   "metadata": {
    "ExecuteTime": {
     "end_time": "2018-10-26T21:18:34.184771Z",
     "start_time": "2018-10-26T21:17:29.468552Z"
    },
    "scrolled": false
   },
   "outputs": [
    {
     "name": "stdout",
     "output_type": "stream",
     "text": [
      "Baseline Accuracy: 0.9045\n",
      "=======================================\n",
      "Random Forests Training Accuracy: 0.7256\n",
      "Random Forests Test Accuracy: 0.7560\n",
      "Random Forests Precision: 0.5069\n",
      "Random Forests Recall: 0.1972\n",
      "Random Forests F1: 0.3521\n"
     ]
    },
    {
     "data": {
      "image/png": "[encoded data removed]",
      "text/plain": [
       "<Figure size 432x288 with 2 Axes>"
      ]
     },
     "metadata": {
      "needs_background": "light"
     },
     "output_type": "display_data"
    },
    {
     "data": {
      "image/png": "[encoded data removed]",
      "text/plain": [
       "<Figure size 432x288 with 1 Axes>"
      ]
     },
     "metadata": {
      "needs_background": "light"
     },
     "output_type": "display_data"
    },
    {
     "data": {
      "image/png": "[encoded data removed]",
      "text/plain": [
       "<Figure size 432x288 with 1 Axes>"
      ]
     },
     "metadata": {
      "needs_background": "light"
     },
     "output_type": "display_data"
    }
   ],
   "source": [
    "# Random forests model\n",
    "\n",
    "clf_RF = RandomForestClassifier(random_state=1, n_estimators=1000)\n",
    "\n",
    "ypred_RF = run_clf(clf_RF, 'Random Forests', X_train_nr, y_train_nr,\n",
    "       csv_test.iloc[:,:-1], csv_test.iloc[:,-1])\n"
   ]
  },
  {
   "cell_type": "code",
   "execution_count": 79,
   "metadata": {},
   "outputs": [
    {
     "data": {
      "text/plain": [
       "2001.1876000000002"
      ]
     },
     "execution_count": 79,
     "metadata": {},
     "output_type": "execute_result"
    }
   ],
   "source": [
    "XXtest=csv_test.iloc[:,:-1]\n",
    "XXtest.QTI.sum()"
   ]
  },
  {
   "cell_type": "code",
   "execution_count": 82,
   "metadata": {},
   "outputs": [
    {
     "data": {
      "text/plain": [
       "RandomForestClassifier(bootstrap=True, class_weight=None, criterion='gini',\n",
       "            max_depth=None, max_features='auto', max_leaf_nodes=None,\n",
       "            min_impurity_decrease=0.0, min_impurity_split=None,\n",
       "            min_samples_leaf=1, min_samples_split=2,\n",
       "            min_weight_fraction_leaf=0.0, n_estimators=1000, n_jobs=None,\n",
       "            oob_score=False, random_state=1, verbose=0, warm_start=False)"
      ]
     },
     "execution_count": 82,
     "metadata": {},
     "output_type": "execute_result"
    }
   ],
   "source": [
    "clf_RF"
   ]
  },
  {
   "cell_type": "code",
   "execution_count": null,
   "metadata": {},
   "outputs": [],
   "source": []
  },
  {
   "cell_type": "code",
   "execution_count": 69,
   "metadata": {
    "ExecuteTime": {
     "end_time": "2018-10-26T21:18:34.589631Z",
     "start_time": "2018-10-26T21:18:34.187547Z"
    },
    "scrolled": false
   },
   "outputs": [
    {
     "data": {
      "text/plain": [
       "Text(0.5,1,'Random Forests')"
      ]
     },
     "execution_count": 69,
     "metadata": {},
     "output_type": "execute_result"
    },
    {
     "data": {
      "image/png": "[encoded data removed]",
      "text/plain": [
       "<Figure size 720x360 with 1 Axes>"
      ]
     },
     "metadata": {
      "needs_background": "light"
     },
     "output_type": "display_data"
    }
   ],
   "source": [
    "# Plot feature importances of Random Forests model\n",
    "\n",
    "plot_features(clf_RF.feature_importances_, csv_train.iloc[:,:-1].columns)\n",
    "plt.ylabel('Feature Importance')\n",
    "plt.title('Random Forests')"
   ]
  },
  {
   "cell_type": "code",
   "execution_count": 70,
   "metadata": {
    "ExecuteTime": {
     "end_time": "2018-10-26T21:18:35.437423Z",
     "start_time": "2018-10-26T21:18:34.592638Z"
    },
    "scrolled": false
   },
   "outputs": [
    {
     "name": "stdout",
     "output_type": "stream",
     "text": [
      "Random Forest Test Accuracy: 0.7560\n",
      "Random Forest Precision: 0.5069\n",
      "Random Forest Recall: 0.1972\n",
      "Random Forest F1: 0.3521\n"
     ]
    },
    {
     "data": {
      "image/png": "[encoded data removed]",
      "text/plain": [
       "<Figure size 432x288 with 2 Axes>"
      ]
     },
     "metadata": {
      "needs_background": "light"
     },
     "output_type": "display_data"
    }
   ],
   "source": [
    "probs_RF = clf_RF.predict_proba(csv_test.iloc[:,:-1])\n",
    "probs_RF = probs_RF[:,1]\n",
    "\n",
    "threshold = 0.5\n",
    "\n",
    "print_cm(csv_test.iloc[:,-1].values, probs_RF > threshold)\n",
    "print(\"Random Forest Test Accuracy: %.4f\" % accuracy_score(csv_test.iloc[:,-1].values, probs_RF > threshold))\n",
    "precision_RF, recall_RF, f1_RF = metrics(csv_test.iloc[:,-1].values, probs_RF > threshold)\n",
    "print(\"Random Forest Precision: %.4f\" % precision_RF)\n",
    "print(\"Random Forest Recall: %.4f\" % recall_RF)\n",
    "print(\"Random Forest F1: %.4f\" % f1_RF)"
   ]
  },
  {
   "cell_type": "markdown",
   "metadata": {},
   "source": [
    "### 3.3) Support Vector Machines"
   ]
  },
  {
   "cell_type": "code",
   "execution_count": 71,
   "metadata": {
    "ExecuteTime": {
     "end_time": "2018-10-26T21:19:17.973186Z",
     "start_time": "2018-10-26T21:18:35.441432Z"
    },
    "scrolled": false
   },
   "outputs": [
    {
     "name": "stderr",
     "output_type": "stream",
     "text": [
      "C:\\Users\\katovc\\AppData\\Local\\Continuum\\anaconda3\\envs\\deeplearning\\lib\\site-packages\\sklearn\\svm\\base.py:196: FutureWarning: The default value of gamma will change from 'auto' to 'scale' in version 0.22 to account better for unscaled features. Set gamma explicitly to 'auto' or 'scale' to avoid this warning.\n",
      "  \"avoid this warning.\", FutureWarning)\n",
      "C:\\Users\\katovc\\AppData\\Local\\Continuum\\anaconda3\\envs\\deeplearning\\lib\\site-packages\\sklearn\\svm\\base.py:196: FutureWarning: The default value of gamma will change from 'auto' to 'scale' in version 0.22 to account better for unscaled features. Set gamma explicitly to 'auto' or 'scale' to avoid this warning.\n",
      "  \"avoid this warning.\", FutureWarning)\n",
      "C:\\Users\\katovc\\AppData\\Local\\Continuum\\anaconda3\\envs\\deeplearning\\lib\\site-packages\\sklearn\\svm\\base.py:196: FutureWarning: The default value of gamma will change from 'auto' to 'scale' in version 0.22 to account better for unscaled features. Set gamma explicitly to 'auto' or 'scale' to avoid this warning.\n",
      "  \"avoid this warning.\", FutureWarning)\n",
      "C:\\Users\\katovc\\AppData\\Local\\Continuum\\anaconda3\\envs\\deeplearning\\lib\\site-packages\\sklearn\\svm\\base.py:196: FutureWarning: The default value of gamma will change from 'auto' to 'scale' in version 0.22 to account better for unscaled features. Set gamma explicitly to 'auto' or 'scale' to avoid this warning.\n",
      "  \"avoid this warning.\", FutureWarning)\n",
      "C:\\Users\\katovc\\AppData\\Local\\Continuum\\anaconda3\\envs\\deeplearning\\lib\\site-packages\\sklearn\\svm\\base.py:196: FutureWarning: The default value of gamma will change from 'auto' to 'scale' in version 0.22 to account better for unscaled features. Set gamma explicitly to 'auto' or 'scale' to avoid this warning.\n",
      "  \"avoid this warning.\", FutureWarning)\n",
      "C:\\Users\\katovc\\AppData\\Local\\Continuum\\anaconda3\\envs\\deeplearning\\lib\\site-packages\\sklearn\\svm\\base.py:196: FutureWarning: The default value of gamma will change from 'auto' to 'scale' in version 0.22 to account better for unscaled features. Set gamma explicitly to 'auto' or 'scale' to avoid this warning.\n",
      "  \"avoid this warning.\", FutureWarning)\n"
     ]
    },
    {
     "name": "stdout",
     "output_type": "stream",
     "text": [
      "Baseline Accuracy: 0.9045\n",
      "=======================================\n",
      "Support Vector Machines Training Accuracy: 0.6514\n",
      "Support Vector Machines Test Accuracy: 0.8412\n",
      "Support Vector Machines Precision: 0.2893\n",
      "Support Vector Machines Recall: 0.2328\n",
      "Support Vector Machines F1: 0.2610\n"
     ]
    },
    {
     "data": {
      "image/png": "[encoded data removed]",
      "text/plain": [
       "<Figure size 432x288 with 2 Axes>"
      ]
     },
     "metadata": {
      "needs_background": "light"
     },
     "output_type": "display_data"
    },
    {
     "data": {
      "image/png": "[encoded data removed]",
      "text/plain": [
       "<Figure size 432x288 with 1 Axes>"
      ]
     },
     "metadata": {
      "needs_background": "light"
     },
     "output_type": "display_data"
    },
    {
     "data": {
      "image/png": "[encoded data removed]",
      "text/plain": [
       "<Figure size 432x288 with 1 Axes>"
      ]
     },
     "metadata": {
      "needs_background": "light"
     },
     "output_type": "display_data"
    }
   ],
   "source": [
    "clf_SVC = SVC(probability = True)\n",
    "\n",
    "ypred_SVC = run_clf(clf_SVC, 'Support Vector Machines', X_train_nr, y_train_nr,\n",
    "       csv_test.iloc[:,:-1], csv_test.iloc[:,-1])"
   ]
  },
  {
   "cell_type": "markdown",
   "metadata": {},
   "source": [
    "### 3.4) Linear Discriminant Analysis"
   ]
  },
  {
   "cell_type": "code",
   "execution_count": 72,
   "metadata": {
    "ExecuteTime": {
     "end_time": "2018-10-26T21:19:18.872046Z",
     "start_time": "2018-10-26T21:19:17.976196Z"
    },
    "scrolled": false
   },
   "outputs": [
    {
     "name": "stdout",
     "output_type": "stream",
     "text": [
      "Baseline Accuracy: 0.9045\n",
      "=======================================\n",
      "Linear Discriminant Analysis Training Accuracy: 0.6356\n",
      "Linear Discriminant Analysis Test Accuracy: 0.8357\n",
      "Linear Discriminant Analysis Precision: 0.3636\n",
      "Linear Discriminant Analysis Recall: 0.2510\n",
      "Linear Discriminant Analysis F1: 0.3073\n"
     ]
    },
    {
     "data": {
      "image/png": "[encoded data removed]",
      "text/plain": [
       "<Figure size 432x288 with 2 Axes>"
      ]
     },
     "metadata": {
      "needs_background": "light"
     },
     "output_type": "display_data"
    },
    {
     "data": {
      "image/png": "[encoded data removed]",
      "text/plain": [
       "<Figure size 432x288 with 1 Axes>"
      ]
     },
     "metadata": {
      "needs_background": "light"
     },
     "output_type": "display_data"
    },
    {
     "data": {
      "image/png": "[encoded data removed]",
      "text/plain": [
       "<Figure size 432x288 with 1 Axes>"
      ]
     },
     "metadata": {
      "needs_background": "light"
     },
     "output_type": "display_data"
    }
   ],
   "source": [
    "clf_LDA = LinearDiscriminantAnalysis()\n",
    "\n",
    "ypred_LDA = run_clf(clf_LDA, 'Linear Discriminant Analysis', X_train_nr, y_train_nr,\n",
    "       csv_test.iloc[:,:-1], csv_test.iloc[:,-1])\n",
    "\n",
    "probs_LDA = clf_LDA.predict_proba(csv_test.iloc[:,:-1])\n",
    "probs_LDA = probs_LDA[:,1]\n",
    "\n"
   ]
  },
  {
   "cell_type": "code",
   "execution_count": 73,
   "metadata": {},
   "outputs": [
    {
     "name": "stdout",
     "output_type": "stream",
     "text": [
      "Linear Discriminant Analysis Test Accuracy: 0.8357\n",
      "Linear Discriminant Analysis Precision: 0.3636\n",
      "Linear Discriminant Analysis Recall: 0.2510\n",
      "Linear Discriminant Analysis F1: 0.3073\n"
     ]
    },
    {
     "data": {
      "image/png": "[encoded data removed]",
      "text/plain": [
       "<Figure size 432x288 with 2 Axes>"
      ]
     },
     "metadata": {
      "needs_background": "light"
     },
     "output_type": "display_data"
    }
   ],
   "source": [
    "threshold = 0.5\n",
    "\n",
    "print_cm(csv_test.iloc[:,-1].values, probs_LDA > threshold)\n",
    "print(\"Linear Discriminant Analysis Test Accuracy: %.4f\" % accuracy_score(csv_test.iloc[:,-1].values, probs_LDA > threshold))\n",
    "precision_LDA, recall_LDA, f1_LDA = metrics(csv_test.iloc[:,-1].values, probs_LDA > threshold)\n",
    "print(\"Linear Discriminant Analysis Precision: %.4f\" % precision_LDA)\n",
    "print(\"Linear Discriminant Analysis Recall: %.4f\" % recall_LDA)\n",
    "print(\"Linear Discriminant Analysis F1: %.4f\" % f1_LDA)\n",
    "\n"
   ]
  },
  {
   "cell_type": "markdown",
   "metadata": {},
   "source": [
    "### 3.5) Correlation Matrix"
   ]
  },
  {
   "cell_type": "code",
   "execution_count": 74,
   "metadata": {
    "ExecuteTime": {
     "end_time": "2018-10-26T21:19:19.550503Z",
     "start_time": "2018-10-26T21:19:18.875055Z"
    },
    "scrolled": true
   },
   "outputs": [
    {
     "data": {
      "text/plain": [
       "<matplotlib.axes._subplots.AxesSubplot at 0x229466b8a90>"
      ]
     },
     "execution_count": 74,
     "metadata": {},
     "output_type": "execute_result"
    },
    {
     "data": {
      "image/png": "[encoded data removed]",
      "text/plain": [
       "<Figure size 864x720 with 2 Axes>"
      ]
     },
     "metadata": {
      "needs_background": "light"
     },
     "output_type": "display_data"
    }
   ],
   "source": [
    "# Generate a correlation matrix. Note that the relationship between parameters\n",
    "# will not be apparent if the data set remains imbalanced, so the cases were\n",
    "# balanced to reflect a 1:1 ratio between Sold and Unsold cases:\n",
    "\n",
    "train_sold = csv_train.loc[csv_train.Sold == 1] \n",
    "test_sold = csv_test.loc[csv_test.Sold == 1] \n",
    "train_unsold = csv_train.loc[csv_train.Sold == 0] \n",
    "test_unsold = csv_test.loc[csv_test.Sold == 0] \n",
    "\n",
    "df_unsold = pd.concat([train_unsold, test_unsold])\n",
    "\n",
    "df_sold = pd.concat([train_sold, test_sold])\n",
    "\n",
    "df_unsold_downsampled = resample(df_unsold, replace=True,    # sample without replacement\n",
    "                                 n_samples=df_sold.shape[0],     # to match minority class\n",
    "                                 random_state=123) # reproducible results\n",
    "                                                 \n",
    "# Combine minority class with downsampled majority class\n",
    "df_downsampled = pd.concat([df_sold, df_unsold_downsampled])\n",
    "\n",
    "# Display new class counts\n",
    "df_downsampled.Sold.value_counts()\n",
    "\n",
    "# Correlation plot\n",
    "corr_downsampled = df_downsampled[csv_train.columns].corr()\n",
    "fig, ax = plt.subplots(figsize=(12,10))\n",
    "sns.heatmap(corr_downsampled, xticklabels=csv_train.columns, yticklabels=csv_train.columns, ax=ax, cmap='RdBu_r')"
   ]
  },
  {
   "cell_type": "markdown",
   "metadata": {},
   "source": [
    "## 3.6) Recreating Logistic Regression Model with 5 Most Important Features"
   ]
  },
  {
   "cell_type": "code",
   "execution_count": 75,
   "metadata": {
    "ExecuteTime": {
     "end_time": "2018-10-26T21:19:19.561532Z",
     "start_time": "2018-10-26T21:19:19.554515Z"
    }
   },
   "outputs": [
    {
     "data": {
      "text/plain": [
       "array([ 2.31280848,  8.25731002,  2.68872489, -1.03704031, -0.2237954 ,\n",
       "       -0.05042993, -0.03533288, -4.30397872])"
      ]
     },
     "execution_count": 75,
     "metadata": {},
     "output_type": "execute_result"
    }
   ],
   "source": [
    "clf_LR.coef_[0]"
   ]
  },
  {
   "cell_type": "code",
   "execution_count": 76,
   "metadata": {
    "ExecuteTime": {
     "end_time": "2018-10-26T21:19:19.586599Z",
     "start_time": "2018-10-26T21:19:19.564541Z"
    }
   },
   "outputs": [
    {
     "ename": "IndexError",
     "evalue": "index 28 is out of bounds for axis 0 with size 8",
     "output_type": "error",
     "traceback": [
      "\u001b[1;31m---------------------------------------------------------------------------\u001b[0m",
      "\u001b[1;31mIndexError\u001b[0m                                Traceback (most recent call last)",
      "\u001b[1;32m<ipython-input-76-f61e1c860a90>\u001b[0m in \u001b[0;36m<module>\u001b[1;34m\u001b[0m\n\u001b[0;32m      1\u001b[0m \u001b[0mcoef_Broker\u001b[0m \u001b[1;33m=\u001b[0m \u001b[0mclf_LR\u001b[0m\u001b[1;33m.\u001b[0m\u001b[0mcoef_\u001b[0m\u001b[1;33m[\u001b[0m\u001b[1;36m0\u001b[0m\u001b[1;33m]\u001b[0m\u001b[1;33m[\u001b[0m\u001b[1;36m3\u001b[0m\u001b[1;33m]\u001b[0m\u001b[1;33m\u001b[0m\u001b[0m\n\u001b[1;32m----> 2\u001b[1;33m \u001b[0mcoef_QTI\u001b[0m \u001b[1;33m=\u001b[0m \u001b[0mclf_LR\u001b[0m\u001b[1;33m.\u001b[0m\u001b[0mcoef_\u001b[0m\u001b[1;33m[\u001b[0m\u001b[1;36m0\u001b[0m\u001b[1;33m]\u001b[0m\u001b[1;33m[\u001b[0m\u001b[1;36m28\u001b[0m\u001b[1;33m]\u001b[0m\u001b[1;33m\u001b[0m\u001b[0m\n\u001b[0m\u001b[0;32m      3\u001b[0m \u001b[0mcoef_Underwriter\u001b[0m \u001b[1;33m=\u001b[0m \u001b[0mclf_LR\u001b[0m\u001b[1;33m.\u001b[0m\u001b[0mcoef_\u001b[0m\u001b[1;33m[\u001b[0m\u001b[1;36m0\u001b[0m\u001b[1;33m]\u001b[0m\u001b[1;33m[\u001b[0m\u001b[1;36m2\u001b[0m\u001b[1;33m]\u001b[0m\u001b[1;33m\u001b[0m\u001b[0m\n\u001b[0;32m      4\u001b[0m \u001b[0mcoef_RSE\u001b[0m \u001b[1;33m=\u001b[0m \u001b[0mclf_LR\u001b[0m\u001b[1;33m.\u001b[0m\u001b[0mcoef_\u001b[0m\u001b[1;33m[\u001b[0m\u001b[1;36m0\u001b[0m\u001b[1;33m]\u001b[0m\u001b[1;33m[\u001b[0m\u001b[1;36m0\u001b[0m\u001b[1;33m]\u001b[0m\u001b[1;33m\u001b[0m\u001b[0m\n\u001b[0;32m      5\u001b[0m \u001b[0mcoef_RSS\u001b[0m \u001b[1;33m=\u001b[0m \u001b[0mclf_LR\u001b[0m\u001b[1;33m.\u001b[0m\u001b[0mcoef_\u001b[0m\u001b[1;33m[\u001b[0m\u001b[1;36m0\u001b[0m\u001b[1;33m]\u001b[0m\u001b[1;33m[\u001b[0m\u001b[1;36m1\u001b[0m\u001b[1;33m]\u001b[0m\u001b[1;33m\u001b[0m\u001b[0m\n",
      "\u001b[1;31mIndexError\u001b[0m: index 28 is out of bounds for axis 0 with size 8"
     ]
    }
   ],
   "source": [
    "coef_Broker = clf_LR.coef_[0][3]\n",
    "coef_QTI = clf_LR.coef_[0][28]\n",
    "coef_Underwriter = clf_LR.coef_[0][2]\n",
    "coef_RSE = clf_LR.coef_[0][0]\n",
    "coef_RSS = clf_LR.coef_[0][1]"
   ]
  },
  {
   "cell_type": "code",
   "execution_count": null,
   "metadata": {
    "ExecuteTime": {
     "end_time": "2018-10-26T21:19:19.613672Z",
     "start_time": "2018-10-26T21:19:19.590610Z"
    }
   },
   "outputs": [],
   "source": [
    "coef = list([coef_Broker, coef_QTI, coef_Underwriter, coef_RSE, coef_RSS])"
   ]
  },
  {
   "cell_type": "code",
   "execution_count": null,
   "metadata": {
    "ExecuteTime": {
     "end_time": "2018-10-26T21:19:19.642750Z",
     "start_time": "2018-10-26T21:19:19.617685Z"
    }
   },
   "outputs": [],
   "source": [
    "reduced = csv_train[['BrokerName_ratio', 'QTI', 'Underwriter_Name_ratio', 'RSE_Name_ratio', 'RSS_Name_ratio']]"
   ]
  },
  {
   "cell_type": "code",
   "execution_count": null,
   "metadata": {
    "ExecuteTime": {
     "end_time": "2018-10-26T21:19:19.719958Z",
     "start_time": "2018-10-26T21:19:19.690880Z"
    }
   },
   "outputs": [],
   "source": [
    "reducedhist = np.matmul(reduced, coef)"
   ]
  },
  {
   "cell_type": "code",
   "execution_count": null,
   "metadata": {},
   "outputs": [],
   "source": []
  },
  {
   "cell_type": "code",
   "execution_count": null,
   "metadata": {
    "ExecuteTime": {
     "end_time": "2018-10-26T21:19:20.167133Z",
     "start_time": "2018-10-26T21:19:19.724972Z"
    }
   },
   "outputs": [],
   "source": [
    "plt.figure(figsize=(10,8))\n",
    "\n",
    "trial = pd.concat([csv_train, pd.Series(reducedhist, name='reducedhist')], axis=1)\n",
    "\n",
    "plt.hist([trial[trial.Sold == 1].reducedhist,\n",
    "         trial[trial.Sold == 0].reducedhist], stacked=True, bins=50)\n",
    "plt.legend([\"Sold\", \"Unsold\"])"
   ]
  },
  {
   "cell_type": "markdown",
   "metadata": {},
   "source": [
    "## 4) Feature Engineering: Closer look at 0.4 < QTI <= 1.0"
   ]
  },
  {
   "cell_type": "code",
   "execution_count": null,
   "metadata": {
    "ExecuteTime": {
     "end_time": "2018-10-26T21:19:20.198218Z",
     "start_time": "2018-10-26T21:19:20.171144Z"
    }
   },
   "outputs": [],
   "source": [
    "# Match QTI with its corresponding TP, TN, FN, FP label\n",
    "\n",
    "results = pd.concat([pd.Series(csv_test.iloc[:,-1], name='ytest'), pd.Series(ypred_RF, name='ypred')], axis=1)\n",
    "results['cm'] = 0\n",
    "\n",
    "results.loc[np.logical_and(results.ytest == 1, results.ypred == 1), 'cm'] = 1\n",
    "results.loc[np.logical_and(results.ytest == 0, results.ypred == 0), 'cm'] = 2\n",
    "results.loc[np.logical_and(results.ytest == 1, results.ypred == 0), 'cm'] = 3\n",
    "results.loc[np.logical_and(results.ytest == 0, results.ypred == 1), 'cm'] = 4\n",
    "\n",
    "QTI_and_cm = pd.concat([pd.Series(csv_test.QTI, name='QTI'),\n",
    "                        pd.Series(results.cm, name='cm')], axis=1)"
   ]
  },
  {
   "cell_type": "code",
   "execution_count": null,
   "metadata": {
    "ExecuteTime": {
     "end_time": "2018-10-26T21:19:20.867113Z",
     "start_time": "2018-10-26T21:19:20.200223Z"
    }
   },
   "outputs": [],
   "source": [
    "# Plot the distribution of QTI according to its confusion matrix label\n",
    "# Plot shows that much of the misclassified cases occur near and less than QTI = 1.0\n",
    "\n",
    "plt.figure(figsize=(10,8))\n",
    "plt.hist([QTI_and_cm[QTI_and_cm.cm == 1].QTI * 2,\n",
    "         QTI_and_cm[QTI_and_cm.cm == 2].QTI * 2,\n",
    "         QTI_and_cm[QTI_and_cm.cm == 3].QTI * 2,\n",
    "         QTI_and_cm[QTI_and_cm.cm == 4].QTI * 2], stacked=True, bins=50)\n",
    "plt.legend([\"TP\", \"TN\", \"FN\", \"FP\"])\n",
    "plt.xlabel('QTI')\n",
    "plt.ylabel('Count')"
   ]
  },
  {
   "cell_type": "code",
   "execution_count": null,
   "metadata": {
    "ExecuteTime": {
     "end_time": "2018-10-26T21:59:25.426903Z",
     "start_time": "2018-10-26T21:59:23.916645Z"
    },
    "scrolled": false
   },
   "outputs": [],
   "source": [
    "# Let's rerun the logistic Regression model, this time focusing only on the cases where 0.94 < QTI < 1.00\n",
    "\n",
    "clf_LR = LogisticRegression()\n",
    "\n",
    "ypred_LR = run_clf(clf_LR, 'Logistic Regression',\n",
    "                   csv_train.loc[np.logical_and(csv_train.QTI > .94/2, \n",
    "                           csv_train.QTI <= 1/2), 'RSE_Name_ratio':'QTI'],\n",
    "                   csv_train.loc[np.logical_and(csv_train.QTI > .94/2, \n",
    "                           csv_train.QTI <= 1/2), 'Sold'],\n",
    "                   csv_test.loc[np.logical_and(csv_test.QTI > .94/2, \n",
    "                           csv_test.QTI <= 1/2), 'RSE_Name_ratio':'QTI'],\n",
    "                   csv_test.loc[np.logical_and(csv_test.QTI > .94/2, \n",
    "                           csv_test.QTI <= 1/2), 'Sold'])"
   ]
  },
  {
   "cell_type": "code",
   "execution_count": null,
   "metadata": {
    "ExecuteTime": {
     "end_time": "2018-10-26T21:59:29.715821Z",
     "start_time": "2018-10-26T21:59:29.172435Z"
    }
   },
   "outputs": [],
   "source": [
    "# Plot coefficients of Logistic Regression model\n",
    "\n",
    "plot_features(clf_LR.coef_[0], csv_train.iloc[:,:-1].columns)\n",
    "plt.ylabel('abs(coefficients)')\n",
    "plt.title('Logistic Regression')"
   ]
  },
  {
   "cell_type": "code",
   "execution_count": null,
   "metadata": {
    "ExecuteTime": {
     "end_time": "2018-10-26T22:00:10.094115Z",
     "start_time": "2018-10-26T21:59:36.423345Z"
    }
   },
   "outputs": [],
   "source": [
    "# Let's rerun the random forest model, this time focusing only on the cases where 0.94 < QTI < 1.00\n",
    "\n",
    "clf_RF = RandomForestClassifier(random_state=1, n_estimators=1000)\n",
    "\n",
    "ypred_RF = run_clf(clf_RF, 'Random Forests',\n",
    "                   csv_train.loc[np.logical_and(csv_train.QTI > .94/2, \n",
    "                           csv_train.QTI <= 1/2), 'RSE_Name_ratio':'QTI'],\n",
    "                   csv_train.loc[np.logical_and(csv_train.QTI > .94/2, \n",
    "                           csv_train.QTI <= 1/2), 'Sold'],\n",
    "                   csv_test.loc[np.logical_and(csv_test.QTI > .94/2, \n",
    "                           csv_test.QTI <= 1/2), 'RSE_Name_ratio':'QTI'],\n",
    "                   csv_test.loc[np.logical_and(csv_test.QTI > .94/2, \n",
    "                           csv_test.QTI <= 1/2), 'Sold'])"
   ]
  },
  {
   "cell_type": "code",
   "execution_count": null,
   "metadata": {
    "ExecuteTime": {
     "end_time": "2018-10-26T21:19:47.508586Z",
     "start_time": "2018-10-26T21:19:47.121545Z"
    },
    "scrolled": false
   },
   "outputs": [],
   "source": [
    "# Plot feature importances of Random Forests model\n",
    "\n",
    "plot_features(clf_RF.feature_importances_, csv_train.iloc[:,:-1].columns)\n",
    "plt.ylabel('Feature Importance')\n",
    "plt.title('Random Forests')"
   ]
  },
  {
   "cell_type": "code",
   "execution_count": null,
   "metadata": {
    "ExecuteTime": {
     "end_time": "2018-10-26T22:22:39.496758Z",
     "start_time": "2018-10-26T22:22:39.052731Z"
    },
    "scrolled": false
   },
   "outputs": [],
   "source": [
    "# Plot the distribution of QTI according to its confusion matrix label\n",
    "\n",
    "plt.figure(figsize=(10,8))\n",
    "plt.hist([csv_train[csv_train.Sold == 1].BrokerName_ratio,\n",
    "         csv_train[csv_train.Sold == 0].BrokerName_ratio], stacked=True, bins=50)\n",
    "plt.legend([\"Sold\", \"Unsold\"])\n",
    "plt.xlabel('BrokerName_ratio')\n",
    "plt.ylabel('Count')"
   ]
  },
  {
   "cell_type": "code",
   "execution_count": null,
   "metadata": {
    "ExecuteTime": {
     "end_time": "2018-10-26T23:54:59.014375Z",
     "start_time": "2018-10-26T23:54:58.644073Z"
    }
   },
   "outputs": [],
   "source": [
    "# Plot the distribution of QTI according to its confusion matrix label\n",
    "\n",
    "plt.figure(figsize=(10,8))\n",
    "plt.hist([csv_test[csv_test.Sold == 1].BrokerName_ratio,\n",
    "         csv_test[csv_test.Sold == 0].BrokerName_ratio], stacked=True, bins=50)\n",
    "plt.legend([\"Sold\", \"Unsold\"])\n",
    "plt.xlabel('BrokerName_ratio')\n",
    "plt.ylabel('Count')"
   ]
  },
  {
   "cell_type": "code",
   "execution_count": null,
   "metadata": {
    "ExecuteTime": {
     "end_time": "2018-10-26T23:46:05.593676Z",
     "start_time": "2018-10-26T23:46:05.227781Z"
    }
   },
   "outputs": [],
   "source": [
    "# Zoom in for the range of 0.94 < QTI < 1.00\n",
    "\n",
    "plt.figure(figsize=(10,8))\n",
    "plt.hist([csv_train.loc[np.logical_and(np.logical_and(csv_train.QTI > .94/2, \n",
    "                           csv_train.QTI <= 1/2), csv_train.Sold == 1), 'BrokerName_ratio'],\n",
    "         csv_train.loc[np.logical_and(np.logical_and(csv_train.QTI > .94/2, \n",
    "                           csv_train.QTI <= 1/2), csv_train.Sold == 0), 'BrokerName_ratio']], stacked=True, bins=50)\n",
    "plt.legend([\"Sold\", \"Unsold\"])\n",
    "plt.xlabel('BrokerName_ratio')\n",
    "plt.ylabel('Count')"
   ]
  },
  {
   "cell_type": "code",
   "execution_count": null,
   "metadata": {
    "ExecuteTime": {
     "end_time": "2018-10-26T23:51:06.951598Z",
     "start_time": "2018-10-26T23:51:06.941570Z"
    }
   },
   "outputs": [],
   "source": [
    "sum(csv_train[csv_train.BrokerName_ratio == 0].Sold == 0)"
   ]
  },
  {
   "cell_type": "code",
   "execution_count": null,
   "metadata": {
    "ExecuteTime": {
     "end_time": "2018-10-26T23:52:33.440359Z",
     "start_time": "2018-10-26T23:52:33.431336Z"
    }
   },
   "outputs": [],
   "source": [
    "sum(csv_train[csv_train.BrokerName_ratio == 0].Sold == 1)"
   ]
  },
  {
   "cell_type": "code",
   "execution_count": null,
   "metadata": {
    "ExecuteTime": {
     "end_time": "2018-10-26T23:53:36.830853Z",
     "start_time": "2018-10-26T23:53:36.818818Z"
    }
   },
   "outputs": [],
   "source": [
    "sum(csv_test[csv_test.BrokerName_ratio == 0].Sold == 0)"
   ]
  },
  {
   "cell_type": "code",
   "execution_count": null,
   "metadata": {
    "ExecuteTime": {
     "end_time": "2018-10-26T23:53:45.453282Z",
     "start_time": "2018-10-26T23:53:45.444258Z"
    }
   },
   "outputs": [],
   "source": [
    "sum(csv_test[csv_test.BrokerName_ratio == 0].Sold == 1)"
   ]
  },
  {
   "cell_type": "code",
   "execution_count": null,
   "metadata": {
    "ExecuteTime": {
     "end_time": "2018-10-26T23:54:00.818160Z",
     "start_time": "2018-10-26T23:54:00.806129Z"
    }
   },
   "outputs": [],
   "source": [
    "sum(csv_test[csv_test.BrokerName_ratio == 0].Sold == 1) / sum(csv_test[csv_test.BrokerName_ratio == 0].Sold == 0)"
   ]
  },
  {
   "cell_type": "code",
   "execution_count": null,
   "metadata": {},
   "outputs": [],
   "source": [
    "# Deeper dive: Which Brokers have ratio = 0? How many cases? "
   ]
  },
  {
   "cell_type": "markdown",
   "metadata": {},
   "source": [
    "<h1> Predictions </h1>"
   ]
  },
  {
   "cell_type": "code",
   "execution_count": null,
   "metadata": {},
   "outputs": [],
   "source": [
    "print(train[['RSE_Name','RSE_Name_ratio']][train['RSE_Name']=='Richard Bradford'].head(1))\n",
    "print(train[['Underwriter_Name','Underwriter_Name_ratio']][train['Underwriter_Name']=='Matthew Jadovich'].head(1))\n",
    "print(train[['BrokerName','BrokerName_ratio']][train['BrokerName']=='HUB International'].head(1))\n",
    "print('Intercept: ',clf_LDA.intercept_)\n",
    "print('Coefficients: ', clf_LDA.coef_)"
   ]
  },
  {
   "cell_type": "code",
   "execution_count": null,
   "metadata": {},
   "outputs": [],
   "source": [
    "predict_case=np.array([0.07754, 0.099099, 0.068182, 1, 1, 1, 0.75, 0.46193089154665])\n",
    "print('LR: ',clf_LR.predict_proba(predict_case.reshape(1, -1)))\n",
    "print('RF: ',clf_RF.predict_proba(predict_case.reshape(1, -1)))\n",
    "print('LDA: ',clf_LDA.predict_proba(predict_case.reshape(1, -1)))\n",
    "print('SVM: ',clf_SVC.predict_proba(predict_case.reshape(1, -1)))"
   ]
  }
 ],
 "metadata": {
  "kernelspec": {
   "display_name": "Python 3",
   "language": "python",
   "name": "python3"
  },
  "language_info": {
   "codemirror_mode": {
    "name": "ipython",
    "version": 3
   },
   "file_extension": ".py",
   "mimetype": "text/x-python",
   "name": "python",
   "nbconvert_exporter": "python",
   "pygments_lexer": "ipython3",
   "version": "3.7.4"
  }
 },
 "nbformat": 4,
 "nbformat_minor": 2
}
